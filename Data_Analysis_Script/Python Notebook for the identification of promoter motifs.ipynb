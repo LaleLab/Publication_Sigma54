{
 "cells": [
  {
   "cell_type": "markdown",
   "id": "8c2e30b9-4264-4a52-a52e-c15835252e26",
   "metadata": {},
   "source": [
    "# Install Required Libraries\n",
    "# These commands install necessary libraries for bioinformatics tasks, data manipulation, and visualization"
   ]
  },
  {
   "cell_type": "code",
   "execution_count": 1,
   "id": "d6dcda00",
   "metadata": {},
   "outputs": [
    {
     "name": "stdout",
     "output_type": "stream",
     "text": [
      "Defaulting to user installation because normal site-packages is not writeable\n",
      "Requirement already satisfied: biopython in ./.local/lib/python3.9/site-packages (1.81)\n",
      "Requirement already satisfied: numpy in /cluster/apps/eb/software/Anaconda3/2022.10/lib/python3.9/site-packages (from biopython) (1.21.5)\n",
      "Note: you may need to restart the kernel to use updated packages.\n"
     ]
    }
   ],
   "source": [
    "pip install biopython"
   ]
  },
  {
   "cell_type": "code",
   "execution_count": 2,
   "id": "8207f323",
   "metadata": {},
   "outputs": [
    {
     "name": "stdout",
     "output_type": "stream",
     "text": [
      "Defaulting to user installation because normal site-packages is not writeable\n",
      "Requirement already satisfied: biopython in ./.local/lib/python3.9/site-packages (1.81)\n",
      "Requirement already satisfied: numpy in /cluster/apps/eb/software/Anaconda3/2022.10/lib/python3.9/site-packages (from biopython) (1.21.5)\n",
      "Note: you may need to restart the kernel to use updated packages.\n"
     ]
    }
   ],
   "source": [
    "pip install biopython"
   ]
  },
  {
   "cell_type": "code",
   "execution_count": 3,
   "id": "e6607b4e",
   "metadata": {},
   "outputs": [
    {
     "name": "stdout",
     "output_type": "stream",
     "text": [
      "Defaulting to user installation because normal site-packages is not writeable\n",
      "Requirement already satisfied: pandas in /cluster/apps/eb/software/Anaconda3/2022.10/lib/python3.9/site-packages (1.4.4)\n",
      "Requirement already satisfied: python-dateutil>=2.8.1 in /cluster/apps/eb/software/Anaconda3/2022.10/lib/python3.9/site-packages (from pandas) (2.8.2)\n",
      "Requirement already satisfied: pytz>=2020.1 in /cluster/apps/eb/software/Anaconda3/2022.10/lib/python3.9/site-packages (from pandas) (2022.1)\n",
      "Requirement already satisfied: numpy>=1.18.5 in /cluster/apps/eb/software/Anaconda3/2022.10/lib/python3.9/site-packages (from pandas) (1.21.5)\n",
      "Requirement already satisfied: six>=1.5 in /cluster/apps/eb/software/Anaconda3/2022.10/lib/python3.9/site-packages (from python-dateutil>=2.8.1->pandas) (1.16.0)\n",
      "Note: you may need to restart the kernel to use updated packages.\n"
     ]
    }
   ],
   "source": [
    "pip install pandas"
   ]
  },
  {
   "cell_type": "code",
   "execution_count": 4,
   "id": "2652419c",
   "metadata": {},
   "outputs": [
    {
     "name": "stdout",
     "output_type": "stream",
     "text": [
      "Defaulting to user installation because normal site-packages is not writeable\n",
      "Requirement already satisfied: matplotlib in /cluster/apps/eb/software/Anaconda3/2022.10/lib/python3.9/site-packages (3.5.2)\n",
      "Requirement already satisfied: fonttools>=4.22.0 in /cluster/apps/eb/software/Anaconda3/2022.10/lib/python3.9/site-packages (from matplotlib) (4.25.0)\n",
      "Requirement already satisfied: cycler>=0.10 in /cluster/apps/eb/software/Anaconda3/2022.10/lib/python3.9/site-packages (from matplotlib) (0.11.0)\n",
      "Requirement already satisfied: python-dateutil>=2.7 in /cluster/apps/eb/software/Anaconda3/2022.10/lib/python3.9/site-packages (from matplotlib) (2.8.2)\n",
      "Requirement already satisfied: pillow>=6.2.0 in /cluster/apps/eb/software/Anaconda3/2022.10/lib/python3.9/site-packages (from matplotlib) (9.2.0)\n",
      "Requirement already satisfied: packaging>=20.0 in /cluster/apps/eb/software/Anaconda3/2022.10/lib/python3.9/site-packages (from matplotlib) (21.3)\n",
      "Requirement already satisfied: pyparsing>=2.2.1 in /cluster/apps/eb/software/Anaconda3/2022.10/lib/python3.9/site-packages (from matplotlib) (3.0.9)\n",
      "Requirement already satisfied: kiwisolver>=1.0.1 in /cluster/apps/eb/software/Anaconda3/2022.10/lib/python3.9/site-packages (from matplotlib) (1.4.2)\n",
      "Requirement already satisfied: numpy>=1.17 in /cluster/apps/eb/software/Anaconda3/2022.10/lib/python3.9/site-packages (from matplotlib) (1.21.5)\n",
      "Requirement already satisfied: six>=1.5 in /cluster/apps/eb/software/Anaconda3/2022.10/lib/python3.9/site-packages (from python-dateutil>=2.7->matplotlib) (1.16.0)\n",
      "Note: you may need to restart the kernel to use updated packages.\n"
     ]
    }
   ],
   "source": [
    "pip install matplotlib"
   ]
  },
  {
   "cell_type": "code",
   "execution_count": 5,
   "id": "4ee8ed98",
   "metadata": {},
   "outputs": [
    {
     "name": "stdout",
     "output_type": "stream",
     "text": [
      "Defaulting to user installation because normal site-packages is not writeable\n",
      "Requirement already satisfied: seqlogo in ./.local/lib/python3.9/site-packages (5.29.8)\n",
      "Requirement already satisfied: numpy in /cluster/apps/eb/software/Anaconda3/2022.10/lib/python3.9/site-packages (from seqlogo) (1.21.5)\n",
      "Requirement already satisfied: weblogo in ./.local/lib/python3.9/site-packages (from seqlogo) (3.7.12)\n",
      "Requirement already satisfied: pandas in /cluster/apps/eb/software/Anaconda3/2022.10/lib/python3.9/site-packages (from seqlogo) (1.4.4)\n",
      "Requirement already satisfied: pytest in /cluster/apps/eb/software/Anaconda3/2022.10/lib/python3.9/site-packages (from seqlogo) (7.1.2)\n",
      "Requirement already satisfied: ghostscript in ./.local/lib/python3.9/site-packages (from seqlogo) (0.7)\n",
      "Requirement already satisfied: setuptools>=38.6.0 in /cluster/apps/eb/software/Anaconda3/2022.10/lib/python3.9/site-packages (from ghostscript->seqlogo) (63.4.1)\n",
      "Requirement already satisfied: python-dateutil>=2.8.1 in /cluster/apps/eb/software/Anaconda3/2022.10/lib/python3.9/site-packages (from pandas->seqlogo) (2.8.2)\n",
      "Requirement already satisfied: pytz>=2020.1 in /cluster/apps/eb/software/Anaconda3/2022.10/lib/python3.9/site-packages (from pandas->seqlogo) (2022.1)\n",
      "Requirement already satisfied: attrs>=19.2.0 in /cluster/apps/eb/software/Anaconda3/2022.10/lib/python3.9/site-packages (from pytest->seqlogo) (21.4.0)\n",
      "Requirement already satisfied: iniconfig in /cluster/apps/eb/software/Anaconda3/2022.10/lib/python3.9/site-packages (from pytest->seqlogo) (1.1.1)\n",
      "Requirement already satisfied: packaging in /cluster/apps/eb/software/Anaconda3/2022.10/lib/python3.9/site-packages (from pytest->seqlogo) (21.3)\n",
      "Requirement already satisfied: pluggy<2.0,>=0.12 in /cluster/apps/eb/software/Anaconda3/2022.10/lib/python3.9/site-packages (from pytest->seqlogo) (1.0.0)\n",
      "Requirement already satisfied: py>=1.8.2 in /cluster/apps/eb/software/Anaconda3/2022.10/lib/python3.9/site-packages (from pytest->seqlogo) (1.11.0)\n",
      "Requirement already satisfied: tomli>=1.0.0 in /cluster/apps/eb/software/Anaconda3/2022.10/lib/python3.9/site-packages (from pytest->seqlogo) (2.0.1)\n",
      "Requirement already satisfied: scipy in /cluster/apps/eb/software/Anaconda3/2022.10/lib/python3.9/site-packages (from weblogo->seqlogo) (1.9.1)\n",
      "Requirement already satisfied: six>=1.5 in /cluster/apps/eb/software/Anaconda3/2022.10/lib/python3.9/site-packages (from python-dateutil>=2.8.1->pandas->seqlogo) (1.16.0)\n",
      "Requirement already satisfied: pyparsing!=3.0.5,>=2.0.2 in /cluster/apps/eb/software/Anaconda3/2022.10/lib/python3.9/site-packages (from packaging->pytest->seqlogo) (3.0.9)\n",
      "Note: you may need to restart the kernel to use updated packages.\n"
     ]
    }
   ],
   "source": [
    "pip install seqlogo"
   ]
  },
  {
   "cell_type": "code",
   "execution_count": 6,
   "id": "bc6c0034",
   "metadata": {},
   "outputs": [
    {
     "name": "stdout",
     "output_type": "stream",
     "text": [
      "Defaulting to user installation because normal site-packages is not writeable\n",
      "Requirement already satisfied: numpy in /cluster/apps/eb/software/Anaconda3/2022.10/lib/python3.9/site-packages (1.21.5)\n",
      "Note: you may need to restart the kernel to use updated packages.\n"
     ]
    }
   ],
   "source": [
    "pip install numpy"
   ]
  },
  {
   "cell_type": "code",
   "execution_count": 7,
   "id": "4da8d893",
   "metadata": {},
   "outputs": [
    {
     "name": "stdout",
     "output_type": "stream",
     "text": [
      "Defaulting to user installation because normal site-packages is not writeable\n",
      "Requirement already satisfied: seaborn in /cluster/apps/eb/software/Anaconda3/2022.10/lib/python3.9/site-packages (0.11.2)\n",
      "Requirement already satisfied: pandas>=0.23 in /cluster/apps/eb/software/Anaconda3/2022.10/lib/python3.9/site-packages (from seaborn) (1.4.4)\n",
      "Requirement already satisfied: scipy>=1.0 in /cluster/apps/eb/software/Anaconda3/2022.10/lib/python3.9/site-packages (from seaborn) (1.9.1)\n",
      "Requirement already satisfied: numpy>=1.15 in /cluster/apps/eb/software/Anaconda3/2022.10/lib/python3.9/site-packages (from seaborn) (1.21.5)\n",
      "Requirement already satisfied: matplotlib>=2.2 in /cluster/apps/eb/software/Anaconda3/2022.10/lib/python3.9/site-packages (from seaborn) (3.5.2)\n",
      "Requirement already satisfied: cycler>=0.10 in /cluster/apps/eb/software/Anaconda3/2022.10/lib/python3.9/site-packages (from matplotlib>=2.2->seaborn) (0.11.0)\n",
      "Requirement already satisfied: fonttools>=4.22.0 in /cluster/apps/eb/software/Anaconda3/2022.10/lib/python3.9/site-packages (from matplotlib>=2.2->seaborn) (4.25.0)\n",
      "Requirement already satisfied: pillow>=6.2.0 in /cluster/apps/eb/software/Anaconda3/2022.10/lib/python3.9/site-packages (from matplotlib>=2.2->seaborn) (9.2.0)\n",
      "Requirement already satisfied: packaging>=20.0 in /cluster/apps/eb/software/Anaconda3/2022.10/lib/python3.9/site-packages (from matplotlib>=2.2->seaborn) (21.3)\n",
      "Requirement already satisfied: pyparsing>=2.2.1 in /cluster/apps/eb/software/Anaconda3/2022.10/lib/python3.9/site-packages (from matplotlib>=2.2->seaborn) (3.0.9)\n",
      "Requirement already satisfied: python-dateutil>=2.7 in /cluster/apps/eb/software/Anaconda3/2022.10/lib/python3.9/site-packages (from matplotlib>=2.2->seaborn) (2.8.2)\n",
      "Requirement already satisfied: kiwisolver>=1.0.1 in /cluster/apps/eb/software/Anaconda3/2022.10/lib/python3.9/site-packages (from matplotlib>=2.2->seaborn) (1.4.2)\n",
      "Requirement already satisfied: pytz>=2020.1 in /cluster/apps/eb/software/Anaconda3/2022.10/lib/python3.9/site-packages (from pandas>=0.23->seaborn) (2022.1)\n",
      "Requirement already satisfied: six>=1.5 in /cluster/apps/eb/software/Anaconda3/2022.10/lib/python3.9/site-packages (from python-dateutil>=2.7->matplotlib>=2.2->seaborn) (1.16.0)\n",
      "Note: you may need to restart the kernel to use updated packages.\n"
     ]
    }
   ],
   "source": [
    "pip install seaborn"
   ]
  },
  {
   "cell_type": "code",
   "execution_count": 8,
   "id": "9e5507d1",
   "metadata": {},
   "outputs": [
    {
     "name": "stdout",
     "output_type": "stream",
     "text": [
      "Defaulting to user installation because normal site-packages is not writeable\n",
      "Requirement already satisfied: polars in ./.local/lib/python3.9/site-packages (0.19.0)\n",
      "Note: you may need to restart the kernel to use updated packages.\n"
     ]
    }
   ],
   "source": [
    "pip install polars"
   ]
  },
  {
   "cell_type": "code",
   "execution_count": 9,
   "id": "0e3d3707",
   "metadata": {},
   "outputs": [
    {
     "name": "stdout",
     "output_type": "stream",
     "text": [
      "Defaulting to user installation because normal site-packages is not writeable\n",
      "Requirement already satisfied: seqlogo in ./.local/lib/python3.9/site-packages (5.29.8)\n",
      "Requirement already satisfied: pandas in /cluster/apps/eb/software/Anaconda3/2022.10/lib/python3.9/site-packages (from seqlogo) (1.4.4)\n",
      "Requirement already satisfied: weblogo in ./.local/lib/python3.9/site-packages (from seqlogo) (3.7.12)\n",
      "Requirement already satisfied: pytest in /cluster/apps/eb/software/Anaconda3/2022.10/lib/python3.9/site-packages (from seqlogo) (7.1.2)\n",
      "Requirement already satisfied: numpy in /cluster/apps/eb/software/Anaconda3/2022.10/lib/python3.9/site-packages (from seqlogo) (1.21.5)\n",
      "Requirement already satisfied: ghostscript in ./.local/lib/python3.9/site-packages (from seqlogo) (0.7)\n",
      "Requirement already satisfied: setuptools>=38.6.0 in /cluster/apps/eb/software/Anaconda3/2022.10/lib/python3.9/site-packages (from ghostscript->seqlogo) (63.4.1)\n",
      "Requirement already satisfied: python-dateutil>=2.8.1 in /cluster/apps/eb/software/Anaconda3/2022.10/lib/python3.9/site-packages (from pandas->seqlogo) (2.8.2)\n",
      "Requirement already satisfied: pytz>=2020.1 in /cluster/apps/eb/software/Anaconda3/2022.10/lib/python3.9/site-packages (from pandas->seqlogo) (2022.1)\n",
      "Requirement already satisfied: attrs>=19.2.0 in /cluster/apps/eb/software/Anaconda3/2022.10/lib/python3.9/site-packages (from pytest->seqlogo) (21.4.0)\n",
      "Requirement already satisfied: iniconfig in /cluster/apps/eb/software/Anaconda3/2022.10/lib/python3.9/site-packages (from pytest->seqlogo) (1.1.1)\n",
      "Requirement already satisfied: packaging in /cluster/apps/eb/software/Anaconda3/2022.10/lib/python3.9/site-packages (from pytest->seqlogo) (21.3)\n",
      "Requirement already satisfied: pluggy<2.0,>=0.12 in /cluster/apps/eb/software/Anaconda3/2022.10/lib/python3.9/site-packages (from pytest->seqlogo) (1.0.0)\n",
      "Requirement already satisfied: py>=1.8.2 in /cluster/apps/eb/software/Anaconda3/2022.10/lib/python3.9/site-packages (from pytest->seqlogo) (1.11.0)\n",
      "Requirement already satisfied: tomli>=1.0.0 in /cluster/apps/eb/software/Anaconda3/2022.10/lib/python3.9/site-packages (from pytest->seqlogo) (2.0.1)\n",
      "Requirement already satisfied: scipy in /cluster/apps/eb/software/Anaconda3/2022.10/lib/python3.9/site-packages (from weblogo->seqlogo) (1.9.1)\n",
      "Requirement already satisfied: six>=1.5 in /cluster/apps/eb/software/Anaconda3/2022.10/lib/python3.9/site-packages (from python-dateutil>=2.8.1->pandas->seqlogo) (1.16.0)\n",
      "Requirement already satisfied: pyparsing!=3.0.5,>=2.0.2 in /cluster/apps/eb/software/Anaconda3/2022.10/lib/python3.9/site-packages (from packaging->pytest->seqlogo) (3.0.9)\n",
      "Note: you may need to restart the kernel to use updated packages.\n"
     ]
    }
   ],
   "source": [
    "pip install seqlogo"
   ]
  },
  {
   "cell_type": "code",
   "execution_count": 10,
   "id": "3e1db9d1",
   "metadata": {},
   "outputs": [
    {
     "name": "stdout",
     "output_type": "stream",
     "text": [
      "Defaulting to user installation because normal site-packages is not writeable\n",
      "Requirement already satisfied: pyarrow in ./.local/lib/python3.9/site-packages (13.0.0)\n",
      "Requirement already satisfied: numpy>=1.16.6 in /cluster/apps/eb/software/Anaconda3/2022.10/lib/python3.9/site-packages (from pyarrow) (1.21.5)\n",
      "Note: you may need to restart the kernel to use updated packages.\n"
     ]
    }
   ],
   "source": [
    "pip install pyarrow"
   ]
  },
  {
   "cell_type": "code",
   "execution_count": 11,
   "id": "4490ef3e",
   "metadata": {},
   "outputs": [
    {
     "name": "stdout",
     "output_type": "stream",
     "text": [
      "Defaulting to user installation because normal site-packages is not writeable\n",
      "\u001b[31mERROR: Could not find a version that satisfies the requirement fastparq (from versions: none)\u001b[0m\u001b[31m\n",
      "\u001b[0m\u001b[31mERROR: No matching distribution found for fastparq\u001b[0m\u001b[31m\n",
      "\u001b[0mNote: you may need to restart the kernel to use updated packages.\n"
     ]
    }
   ],
   "source": [
    "pip install fastparq"
   ]
  },
  {
   "cell_type": "markdown",
   "id": "9566689b-2f2b-4514-9f04-56f459f7acb9",
   "metadata": {},
   "source": [
    "# Import Necessary Libraries\n",
    "# These imports bring in the functions and classes needed for the analysis"
   ]
  },
  {
   "cell_type": "code",
   "execution_count": 12,
   "id": "83757257",
   "metadata": {},
   "outputs": [],
   "source": [
    "import matplotlib.pyplot as plt"
   ]
  },
  {
   "cell_type": "code",
   "execution_count": 13,
   "id": "22f252a3",
   "metadata": {},
   "outputs": [],
   "source": [
    "import polars as pl\n",
    "import pandas as pd\n",
    "import matplotlib.pyplot as plt\n",
    "from Bio import motifs\n",
    "from Bio.Seq import Seq\n",
    "import seqlogo\n",
    "import numpy as np\n",
    "import seaborn as sns\n",
    "from seqlogo.seqlogo import _sizes\n",
    "import subprocess\n",
    "# Configure Seaborn Theme\n",
    "# Setting up the visual theme for seaborn plots\n",
    "sns.set_theme()\n",
    "_sizes['xxlarge'] = 22"
   ]
  },
  {
   "cell_type": "markdown",
   "id": "cf227f2d-f45c-4135-91dd-b4b432d99ef4",
   "metadata": {},
   "source": [
    "# Define Path for Data Files\n",
    "# Path where the FASTA files and other data are stored"
   ]
  },
  {
   "cell_type": "code",
   "execution_count": 14,
   "id": "c93fae6f",
   "metadata": {},
   "outputs": [],
   "source": [
    "path = \"/cluster/home/essaak/Desktop/Mapping/Mango_RNA/05_Mappings\""
   ]
  },
  {
   "cell_type": "markdown",
   "id": "a4154061-0d16-4a9f-9149-0b3253c2b561",
   "metadata": {},
   "source": [
    "# Function: Convert FASTA to DataFrame\n",
    "# This function parses the FASTA file and converts the data into a structured pandas DataFrame\n",
    "# This function extracts information from the FASTA file, such as sequence identifiers, sizes, positions, and mappings, and stores them in lists. It then creates a DataFrame using the lists and returns it"
   ]
  },
  {
   "cell_type": "code",
   "execution_count": 15,
   "id": "14d98177",
   "metadata": {},
   "outputs": [],
   "source": [
    "from Bio import SeqIO\n",
    "import pandas as pd\n",
    "\n",
    "def fasta_to_dataframe(filename):\n",
    "    centroids = []\n",
    "    seqs = []\n",
    "    sizes = []\n",
    "    positions = []\n",
    "    mapped = []\n",
    "    lengths = []\n",
    "    sequences = []\n",
    "    for seq_record in SeqIO.parse(filename, 'fasta'):\n",
    "        enteries = seq_record.id.split(';')\n",
    "        if len(enteries) == 5:\n",
    "            centroids.append(enteries[0].split('=')[1])\n",
    "            seqs.append(enteries[1].split('=')[1])\n",
    "            sizes.append(enteries[2].split('=')[1])\n",
    "            positions.append(enteries[3].split('=')[1])\n",
    "            mapped.append(enteries[4].split('=')[1])\n",
    "        elif len(enteries) == 3:\n",
    "            centroids.append(enteries[0].split('=')[1])\n",
    "            seqs.append(enteries[1].split('=')[1])\n",
    "            sizes.append(enteries[2].split('=')[1])\n",
    "        lengths.append(len(seq_record))\n",
    "        sequences.append(str(seq_record.seq))\n",
    "\n",
    "    df = pd.DataFrame({\n",
    "        'centeriod': centroids,\n",
    "        'seqs': seqs,\n",
    "        'size': sizes,\n",
    "        'position': positions,\n",
    "        'mapped': mapped,\n",
    "        'length': lengths,\n",
    "        'sequence': sequences\n",
    "    })\n",
    "\n",
    "    return df"
   ]
  },
  {
   "cell_type": "markdown",
   "id": "5f7ee557-9775-4d83-be8f-4a4bf03b87c0",
   "metadata": {},
   "source": [
    "This function converts data from a FASTA file format into a DataFrame, which is a common data structure in Python provided by libraries like Pandas for tabular data manipulation\n",
    "Formatted string (using an f-string) that includes a variable path (which should have been previously defined) and a specific file name \"RNA_017_2022-004_R4_TSS_in_20230605_clusters_90.fasta\". This represents the file path to a FASTA file that contains biological sequence data."
   ]
  },
  {
   "cell_type": "code",
   "execution_count": 16,
   "id": "12b65911",
   "metadata": {},
   "outputs": [],
   "source": [
    "r2 = fasta_to_dataframe(f\"{path}/RNA_017_2022-002_R2_TSS_in_20230418_clusters_90.fa\")"
   ]
  },
  {
   "cell_type": "code",
   "execution_count": 17,
   "id": "5c202e25",
   "metadata": {},
   "outputs": [
    {
     "data": {
      "text/plain": [
       "(71952, 7)"
      ]
     },
     "execution_count": 17,
     "metadata": {},
     "output_type": "execute_result"
    }
   ],
   "source": [
    "r2.shape"
   ]
  },
  {
   "cell_type": "markdown",
   "id": "337e8c2c-042d-4f88-9f97-6937771f5804",
   "metadata": {},
   "source": [
    ".to_parquet(), This is a Pandas DataFrame method that allows you to save the DataFrame to a Parquet file. You provide the file path as an argument.\n",
    "\n",
    "f\"{path}/RNA_R2.pq\": This is a formatted string that constructs the full file path to save the Parquet file. It uses the variable path (have been defined earlier in the code) to determine the directory where the file should be saved, and the file name \"RNA_R2.pq\" is appended to the directory path."
   ]
  },
  {
   "cell_type": "code",
   "execution_count": 18,
   "id": "51264031",
   "metadata": {},
   "outputs": [],
   "source": [
    "r2.to_parquet(f\"{path}/RNA_R2.pq\")"
   ]
  },
  {
   "cell_type": "markdown",
   "id": "2acc2398-8ce0-4f68-a616-d34aa95a7d74",
   "metadata": {},
   "source": [
    "The line of code r2 = pd.read_parquet(f\"{path}//RNA_R2.pq\") is used to read data from a Parquet file back into a Pandas DataFrame in Python"
   ]
  },
  {
   "cell_type": "code",
   "execution_count": 19,
   "id": "ba15bf6d",
   "metadata": {},
   "outputs": [],
   "source": [
    "r2 = pd.read_parquet(f\"{path}//RNA_R2.pq\")"
   ]
  },
  {
   "cell_type": "markdown",
   "id": "0bde81b3-cd29-434a-9f27-4c5fbeb0d486",
   "metadata": {},
   "source": [
    "The provided lines of code seem to be performing various data type conversions and manipulations on the DataFrame r2.\n",
    "\n",
    "r2.position = r2.position.astype(int): This line converts the data type of the 'position' column in the DataFrame r2 to integers. This assumes that the 'position' column contains numeric values that can be safely converted to integers.\n",
    "\n",
    "r2['size'] = r2['size'].astype(int): Similarly, this line converts the data type of the 'size' column in r2 to integers.\n",
    "\n",
    "r2.mapped = r2.mapped.astype(int): This line converts the data type of the 'mapped' column in r2 to integers.\n",
    "\n",
    "r2.seqs = r2.seqs.astype(int): Similarly, this line converts the data type of the 'sequence' column in r2 to integers.\n",
    "\n",
    "r2.sequence = r2.sequence.str.upper(): This line converts the text in the 'sequence' column of DataFrame r2 to uppercase. It makes all the letters in the 'sequence' column's strings uppercase."
   ]
  },
  {
   "cell_type": "code",
   "execution_count": 20,
   "id": "e1fdd638",
   "metadata": {},
   "outputs": [],
   "source": [
    "r2.position = r2.position.astype(int)\n",
    "r2['size'] = r2['size'].astype(int)\n",
    "r2.mapped = r2.mapped.astype(int)\n",
    "r2.seqs = r2.seqs.astype(int)\n",
    "r2.sequence = r2.sequence.str.upper()"
   ]
  },
  {
   "cell_type": "code",
   "execution_count": 21,
   "id": "f920efef",
   "metadata": {},
   "outputs": [
    {
     "data": {
      "text/html": [
       "<div>\n",
       "<style scoped>\n",
       "    .dataframe tbody tr th:only-of-type {\n",
       "        vertical-align: middle;\n",
       "    }\n",
       "\n",
       "    .dataframe tbody tr th {\n",
       "        vertical-align: top;\n",
       "    }\n",
       "\n",
       "    .dataframe thead th {\n",
       "        text-align: right;\n",
       "    }\n",
       "</style>\n",
       "<table border=\"1\" class=\"dataframe\">\n",
       "  <thead>\n",
       "    <tr style=\"text-align: right;\">\n",
       "      <th></th>\n",
       "      <th>centeriod</th>\n",
       "      <th>seqs</th>\n",
       "      <th>size</th>\n",
       "      <th>position</th>\n",
       "      <th>mapped</th>\n",
       "      <th>length</th>\n",
       "      <th>sequence</th>\n",
       "    </tr>\n",
       "  </thead>\n",
       "  <tbody>\n",
       "    <tr>\n",
       "      <th>0</th>\n",
       "      <td>M00493:565:000000000-JRNM9:1:1116:22284:15326</td>\n",
       "      <td>2</td>\n",
       "      <td>6</td>\n",
       "      <td>104</td>\n",
       "      <td>6</td>\n",
       "      <td>219</td>\n",
       "      <td>GTCGGATGCCCAGCCTATAGTGTTTTTAGAATGTGACTTAGTTGGA...</td>\n",
       "    </tr>\n",
       "    <tr>\n",
       "      <th>1</th>\n",
       "      <td>ab89ae7d-da33-4596-8fb3-e3d3cdc65743</td>\n",
       "      <td>2</td>\n",
       "      <td>2</td>\n",
       "      <td>94</td>\n",
       "      <td>4</td>\n",
       "      <td>162</td>\n",
       "      <td>GTCGGATGCCTAATTGACCCGTTCGGTGGTGTTGGATTTAATTTAG...</td>\n",
       "    </tr>\n",
       "    <tr>\n",
       "      <th>2</th>\n",
       "      <td>M00493:565:000000000-JRNM9:1:2118:27640:17638</td>\n",
       "      <td>2</td>\n",
       "      <td>15</td>\n",
       "      <td>51</td>\n",
       "      <td>10</td>\n",
       "      <td>221</td>\n",
       "      <td>GTCGGATGCCATGTGTCCATAGGCGGCACTCACTTTGCATATTAAG...</td>\n",
       "    </tr>\n",
       "    <tr>\n",
       "      <th>3</th>\n",
       "      <td>6412fc40-03de-4f54-864e-d7a4dbc063c3</td>\n",
       "      <td>1</td>\n",
       "      <td>1</td>\n",
       "      <td>67</td>\n",
       "      <td>3</td>\n",
       "      <td>153</td>\n",
       "      <td>GTCGGATGCCATCATCATATTCTTTTAGCGTTTGGGGCTTTTGCCG...</td>\n",
       "    </tr>\n",
       "    <tr>\n",
       "      <th>4</th>\n",
       "      <td>a62420c6-9f0a-48cc-960c-dde0c857e30b</td>\n",
       "      <td>1</td>\n",
       "      <td>1</td>\n",
       "      <td>83</td>\n",
       "      <td>4</td>\n",
       "      <td>216</td>\n",
       "      <td>GTCGGATGCCAGCCAGTATATCTATGCGTAACGGTAAGACGGTGGG...</td>\n",
       "    </tr>\n",
       "    <tr>\n",
       "      <th>...</th>\n",
       "      <td>...</td>\n",
       "      <td>...</td>\n",
       "      <td>...</td>\n",
       "      <td>...</td>\n",
       "      <td>...</td>\n",
       "      <td>...</td>\n",
       "      <td>...</td>\n",
       "    </tr>\n",
       "    <tr>\n",
       "      <th>71947</th>\n",
       "      <td>M00493:565:000000000-JRNM9:1:2117:22884:2876</td>\n",
       "      <td>4</td>\n",
       "      <td>15</td>\n",
       "      <td>159</td>\n",
       "      <td>15</td>\n",
       "      <td>219</td>\n",
       "      <td>GTCGGATGCCTCAGGTTTATGCGTTGTGCTGGGTTCTATAGGGTAC...</td>\n",
       "    </tr>\n",
       "    <tr>\n",
       "      <th>71948</th>\n",
       "      <td>f9587ab3-9ca1-4af4-8230-d2db37e13241</td>\n",
       "      <td>1</td>\n",
       "      <td>1</td>\n",
       "      <td>135</td>\n",
       "      <td>3</td>\n",
       "      <td>206</td>\n",
       "      <td>GTCGGATGCCACATCTTACCTATCGGGGCCACGTGGGTAGTGTCTA...</td>\n",
       "    </tr>\n",
       "    <tr>\n",
       "      <th>71949</th>\n",
       "      <td>M00493:565:000000000-JRNM9:1:1115:16164:21354</td>\n",
       "      <td>10</td>\n",
       "      <td>36</td>\n",
       "      <td>34</td>\n",
       "      <td>31</td>\n",
       "      <td>220</td>\n",
       "      <td>GTCGGATGCCAATGGCGGAGTTATGTAAATTTTGTAAGTGATTGGG...</td>\n",
       "    </tr>\n",
       "    <tr>\n",
       "      <th>71950</th>\n",
       "      <td>M00493:565:000000000-JRNM9:1:1115:22975:7680</td>\n",
       "      <td>14</td>\n",
       "      <td>47</td>\n",
       "      <td>155</td>\n",
       "      <td>18</td>\n",
       "      <td>220</td>\n",
       "      <td>GTCGGATGCCGCATTCTGTTTATTGGATTCAACCACTTTGGAGATT...</td>\n",
       "    </tr>\n",
       "    <tr>\n",
       "      <th>71951</th>\n",
       "      <td>M00493:565:000000000-JRNM9:1:1107:18789:2008</td>\n",
       "      <td>1</td>\n",
       "      <td>13</td>\n",
       "      <td>160</td>\n",
       "      <td>80</td>\n",
       "      <td>220</td>\n",
       "      <td>GTCGGATGCCCATGGTCTGATCGTAAGTTTGGAGTTTAATCCTGTA...</td>\n",
       "    </tr>\n",
       "  </tbody>\n",
       "</table>\n",
       "<p>71952 rows × 7 columns</p>\n",
       "</div>"
      ],
      "text/plain": [
       "                                           centeriod  seqs  size  position  \\\n",
       "0      M00493:565:000000000-JRNM9:1:1116:22284:15326     2     6       104   \n",
       "1               ab89ae7d-da33-4596-8fb3-e3d3cdc65743     2     2        94   \n",
       "2      M00493:565:000000000-JRNM9:1:2118:27640:17638     2    15        51   \n",
       "3               6412fc40-03de-4f54-864e-d7a4dbc063c3     1     1        67   \n",
       "4               a62420c6-9f0a-48cc-960c-dde0c857e30b     1     1        83   \n",
       "...                                              ...   ...   ...       ...   \n",
       "71947   M00493:565:000000000-JRNM9:1:2117:22884:2876     4    15       159   \n",
       "71948           f9587ab3-9ca1-4af4-8230-d2db37e13241     1     1       135   \n",
       "71949  M00493:565:000000000-JRNM9:1:1115:16164:21354    10    36        34   \n",
       "71950   M00493:565:000000000-JRNM9:1:1115:22975:7680    14    47       155   \n",
       "71951   M00493:565:000000000-JRNM9:1:1107:18789:2008     1    13       160   \n",
       "\n",
       "       mapped  length                                           sequence  \n",
       "0           6     219  GTCGGATGCCCAGCCTATAGTGTTTTTAGAATGTGACTTAGTTGGA...  \n",
       "1           4     162  GTCGGATGCCTAATTGACCCGTTCGGTGGTGTTGGATTTAATTTAG...  \n",
       "2          10     221  GTCGGATGCCATGTGTCCATAGGCGGCACTCACTTTGCATATTAAG...  \n",
       "3           3     153  GTCGGATGCCATCATCATATTCTTTTAGCGTTTGGGGCTTTTGCCG...  \n",
       "4           4     216  GTCGGATGCCAGCCAGTATATCTATGCGTAACGGTAAGACGGTGGG...  \n",
       "...       ...     ...                                                ...  \n",
       "71947      15     219  GTCGGATGCCTCAGGTTTATGCGTTGTGCTGGGTTCTATAGGGTAC...  \n",
       "71948       3     206  GTCGGATGCCACATCTTACCTATCGGGGCCACGTGGGTAGTGTCTA...  \n",
       "71949      31     220  GTCGGATGCCAATGGCGGAGTTATGTAAATTTTGTAAGTGATTGGG...  \n",
       "71950      18     220  GTCGGATGCCGCATTCTGTTTATTGGATTCAACCACTTTGGAGATT...  \n",
       "71951      80     220  GTCGGATGCCCATGGTCTGATCGTAAGTTTGGAGTTTAATCCTGTA...  \n",
       "\n",
       "[71952 rows x 7 columns]"
      ]
     },
     "execution_count": 21,
     "metadata": {},
     "output_type": "execute_result"
    }
   ],
   "source": [
    "r2"
   ]
  },
  {
   "cell_type": "markdown",
   "id": "32aaf049-158e-4d44-8a42-7bb50c95fe83",
   "metadata": {},
   "source": [
    "The code r2.dtypes is used to retrieve the data types of each column"
   ]
  },
  {
   "cell_type": "code",
   "execution_count": 22,
   "id": "5cdbedc2",
   "metadata": {},
   "outputs": [
    {
     "data": {
      "text/plain": [
       "centeriod    object\n",
       "seqs          int64\n",
       "size          int64\n",
       "position      int64\n",
       "mapped        int64\n",
       "length        int64\n",
       "sequence     object\n",
       "dtype: object"
      ]
     },
     "execution_count": 22,
     "metadata": {},
     "output_type": "execute_result"
    }
   ],
   "source": [
    "r2.dtypes"
   ]
  },
  {
   "cell_type": "markdown",
   "id": "82cb874e-0a24-46a6-8300-ca26a095a450",
   "metadata": {},
   "source": [
    "The line of code r2['source'] = \"R2\" is adding a new column called 'source' to the DataFrame r2 and filling it with the value \"R2\" for every row in the DataFrame. Optional, in case of analysing multiple samples all together"
   ]
  },
  {
   "cell_type": "code",
   "execution_count": null,
   "id": "d41ec12d-c156-4580-af07-33b79bd9285f",
   "metadata": {},
   "outputs": [],
   "source": [
    "r2['source'] = \"R2\""
   ]
  },
  {
   "cell_type": "code",
   "execution_count": null,
   "id": "f810e69d-5202-4c40-8e37-bfb6eee867e3",
   "metadata": {},
   "outputs": [],
   "source": [
    "Optional: After executing this line of code, the resulting DataFrame rs will be a concatenation of multi sample DataFrames. This can be useful when you have separate DataFrames containing related data that you want to combine into a single DataFrame for easier analysis or further processing."
   ]
  },
  {
   "cell_type": "code",
   "execution_count": 24,
   "id": "9cff4037",
   "metadata": {},
   "outputs": [],
   "source": [
    "rs = pd.concat([r2], ignore_index=False)"
   ]
  },
  {
   "cell_type": "code",
   "execution_count": 25,
   "id": "4a3c27e5",
   "metadata": {},
   "outputs": [
    {
     "data": {
      "text/plain": [
       "71952"
      ]
     },
     "execution_count": 25,
     "metadata": {},
     "output_type": "execute_result"
    }
   ],
   "source": [
    "len(rs)"
   ]
  },
  {
   "cell_type": "markdown",
   "id": "f4e8a8cb-e653-4570-81d4-7f114615acd6",
   "metadata": {},
   "source": [
    "Optional: rs.source.value_counts() will return a Series with the count of occurrences for each unique value in the 'source' column of the concatenated DataFrame rs. This can provide insights into how many rows in the DataFrame belong to each source."
   ]
  },
  {
   "cell_type": "code",
   "execution_count": 26,
   "id": "ca92f157",
   "metadata": {},
   "outputs": [
    {
     "data": {
      "text/plain": [
       "R2    71952\n",
       "Name: source, dtype: int64"
      ]
     },
     "execution_count": 26,
     "metadata": {},
     "output_type": "execute_result"
    }
   ],
   "source": [
    "rs.source.value_counts()"
   ]
  },
  {
   "cell_type": "markdown",
   "id": "d2edb1ab-69e3-43a1-9865-24f5fde399d2",
   "metadata": {},
   "source": [
    "When this line of code is executed, the DataFrame rs will be saved as a Parquet file named \"RNA.pq\" in the specified directory. This can be useful for storing the combined and processed data for future use, sharing, or analysis. Parquet files are efficient for storing and reading large datasets, making them a good choice for storing data."
   ]
  },
  {
   "cell_type": "code",
   "execution_count": 27,
   "id": "0ca19b56",
   "metadata": {},
   "outputs": [],
   "source": [
    "rs.to_parquet(f\"{path}/RNA.pq\")"
   ]
  },
  {
   "cell_type": "markdown",
   "id": "f29a7369-4047-42f4-91c8-ff66dfb43189",
   "metadata": {},
   "source": [
    "After executing this line of code, the DataFrame rs will contain the data that was previously saved in the Parquet file \"RNA.pq\". This allows to work with the data again in a DataFrame for further analysis, manipulation, or visualization."
   ]
  },
  {
   "cell_type": "code",
   "execution_count": 28,
   "id": "7ab301c3",
   "metadata": {},
   "outputs": [],
   "source": [
    "rs = pd.read_parquet(f\"{path}/RNA.pq\")"
   ]
  },
  {
   "cell_type": "markdown",
   "id": "f5f890ec-0492-4597-96a7-e2d6f590d582",
   "metadata": {},
   "source": [
    "rs[rs.length > 300].shape will give you a tuple containing the number of rows and columns in the filtered DataFrame where the length is greater than 300. This can be used to understand how many rows match the specified condition and how many columns are present in the filtered subset."
   ]
  },
  {
   "cell_type": "code",
   "execution_count": 29,
   "id": "4c2a68c9",
   "metadata": {},
   "outputs": [
    {
     "data": {
      "text/plain": [
       "(59, 8)"
      ]
     },
     "execution_count": 29,
     "metadata": {},
     "output_type": "execute_result"
    }
   ],
   "source": [
    "rs[rs.length > 300].shape"
   ]
  },
  {
   "cell_type": "markdown",
   "id": "308533b5-6206-41f8-918f-2fbc06ed0246",
   "metadata": {},
   "source": [
    "The line of code helps to create a line plot using the matplotlib library. This plot will show the sorted values of the 'length' column from the DataFrame r2."
   ]
  },
  {
   "cell_type": "code",
   "execution_count": 30,
   "id": "35d05b5e",
   "metadata": {},
   "outputs": [
    {
     "data": {
      "text/plain": [
       "[<matplotlib.lines.Line2D at 0x14dfd9ff9250>]"
      ]
     },
     "execution_count": 30,
     "metadata": {},
     "output_type": "execute_result"
    },
    {
     "data": {
      "image/png": "[encoded data removed]",
      "text/plain": [
       "<Figure size 640x480 with 1 Axes>"
      ]
     },
     "metadata": {},
     "output_type": "display_data"
    }
   ],
   "source": [
    "plt.plot(sorted(r2.length.values))"
   ]
  },
  {
   "cell_type": "markdown",
   "id": "070f17a8-7bda-4b4f-a949-e4b0c6f4585a",
   "metadata": {},
   "source": [
    "trying to create a histogram using Matplotlib's plt.hist function. You're providing the position values (TSS) from a DataFrame named r2."
   ]
  },
  {
   "cell_type": "code",
   "execution_count": 31,
   "id": "f4c61a14",
   "metadata": {},
   "outputs": [
    {
     "data": {
      "text/plain": [
       "(array([3.7890e+03, 8.6020e+03, 1.2739e+04, 1.5859e+04, 1.6322e+04,\n",
       "        1.3862e+04, 7.4700e+02, 1.9000e+01, 7.0000e+00, 6.0000e+00]),\n",
       " array([ 11. ,  38.3,  65.6,  92.9, 120.2, 147.5, 174.8, 202.1, 229.4,\n",
       "        256.7, 284. ]),\n",
       " <BarContainer object of 10 artists>)"
      ]
     },
     "execution_count": 31,
     "metadata": {},
     "output_type": "execute_result"
    },
    {
     "data": {
      "image/png": "[encoded data removed]",
      "text/plain": [
       "<Figure size 640x480 with 1 Axes>"
      ]
     },
     "metadata": {},
     "output_type": "display_data"
    }
   ],
   "source": [
    "plt.hist(r2.position.values)"
   ]
  },
  {
   "cell_type": "markdown",
   "id": "e2dafe31-2358-4411-b110-8e92a0fe0bf2",
   "metadata": {},
   "source": [
    "Calculate summary statistics, including specific percentiles. This will give insights into the distribution of the data in the position column (TSS). The percentiles we specified are 0.03, 0.1, 0.2, 0.9, and 0.99"
   ]
  },
  {
   "cell_type": "code",
   "execution_count": 32,
   "id": "5dcba877",
   "metadata": {},
   "outputs": [
    {
     "data": {
      "text/plain": [
       "count    71952.000000\n",
       "mean       108.500097\n",
       "std         40.272540\n",
       "min         11.000000\n",
       "3%          30.000000\n",
       "10%         51.000000\n",
       "20%         70.000000\n",
       "50%        112.000000\n",
       "90%        160.000000\n",
       "99%        175.000000\n",
       "max        284.000000\n",
       "Name: position, dtype: float64"
      ]
     },
     "execution_count": 32,
     "metadata": {},
     "output_type": "execute_result"
    }
   ],
   "source": [
    "r2.position.describe(percentiles=[0.03,0.1,0.2,0.9,0.99])"
   ]
  },
  {
   "cell_type": "markdown",
   "id": "72e37e81-d606-4788-b592-98956c7311e2",
   "metadata": {},
   "source": [
    "This line of code is used to understand the number of rows in the DataFrame r2 that meet specific conditions (Number of data point in r2 whose TSS position is less then 18)."
   ]
  },
  {
   "cell_type": "code",
   "execution_count": 33,
   "id": "1fd4da87",
   "metadata": {},
   "outputs": [
    {
     "data": {
      "text/plain": [
       "(400, 8)"
      ]
     },
     "execution_count": 33,
     "metadata": {},
     "output_type": "execute_result"
    }
   ],
   "source": [
    "r2[r2.position < 18].shape#,r4[r4.length > 230].shape"
   ]
  },
  {
   "cell_type": "code",
   "execution_count": 34,
   "id": "31710207",
   "metadata": {},
   "outputs": [
    {
     "data": {
      "text/html": [
       "<div>\n",
       "<style scoped>\n",
       "    .dataframe tbody tr th:only-of-type {\n",
       "        vertical-align: middle;\n",
       "    }\n",
       "\n",
       "    .dataframe tbody tr th {\n",
       "        vertical-align: top;\n",
       "    }\n",
       "\n",
       "    .dataframe thead th {\n",
       "        text-align: right;\n",
       "    }\n",
       "</style>\n",
       "<table border=\"1\" class=\"dataframe\">\n",
       "  <thead>\n",
       "    <tr style=\"text-align: right;\">\n",
       "      <th></th>\n",
       "      <th>centeriod</th>\n",
       "      <th>seqs</th>\n",
       "      <th>size</th>\n",
       "      <th>position</th>\n",
       "      <th>mapped</th>\n",
       "      <th>length</th>\n",
       "      <th>sequence</th>\n",
       "      <th>source</th>\n",
       "    </tr>\n",
       "  </thead>\n",
       "  <tbody>\n",
       "    <tr>\n",
       "      <th>0</th>\n",
       "      <td>M00493:565:000000000-JRNM9:1:1116:22284:15326</td>\n",
       "      <td>2</td>\n",
       "      <td>6</td>\n",
       "      <td>104</td>\n",
       "      <td>6</td>\n",
       "      <td>219</td>\n",
       "      <td>GTCGGATGCCCAGCCTATAGTGTTTTTAGAATGTGACTTAGTTGGA...</td>\n",
       "      <td>R2</td>\n",
       "    </tr>\n",
       "    <tr>\n",
       "      <th>1</th>\n",
       "      <td>ab89ae7d-da33-4596-8fb3-e3d3cdc65743</td>\n",
       "      <td>2</td>\n",
       "      <td>2</td>\n",
       "      <td>94</td>\n",
       "      <td>4</td>\n",
       "      <td>162</td>\n",
       "      <td>GTCGGATGCCTAATTGACCCGTTCGGTGGTGTTGGATTTAATTTAG...</td>\n",
       "      <td>R2</td>\n",
       "    </tr>\n",
       "    <tr>\n",
       "      <th>2</th>\n",
       "      <td>M00493:565:000000000-JRNM9:1:2118:27640:17638</td>\n",
       "      <td>2</td>\n",
       "      <td>15</td>\n",
       "      <td>51</td>\n",
       "      <td>10</td>\n",
       "      <td>221</td>\n",
       "      <td>GTCGGATGCCATGTGTCCATAGGCGGCACTCACTTTGCATATTAAG...</td>\n",
       "      <td>R2</td>\n",
       "    </tr>\n",
       "    <tr>\n",
       "      <th>3</th>\n",
       "      <td>6412fc40-03de-4f54-864e-d7a4dbc063c3</td>\n",
       "      <td>1</td>\n",
       "      <td>1</td>\n",
       "      <td>67</td>\n",
       "      <td>3</td>\n",
       "      <td>153</td>\n",
       "      <td>GTCGGATGCCATCATCATATTCTTTTAGCGTTTGGGGCTTTTGCCG...</td>\n",
       "      <td>R2</td>\n",
       "    </tr>\n",
       "    <tr>\n",
       "      <th>4</th>\n",
       "      <td>a62420c6-9f0a-48cc-960c-dde0c857e30b</td>\n",
       "      <td>1</td>\n",
       "      <td>1</td>\n",
       "      <td>83</td>\n",
       "      <td>4</td>\n",
       "      <td>216</td>\n",
       "      <td>GTCGGATGCCAGCCAGTATATCTATGCGTAACGGTAAGACGGTGGG...</td>\n",
       "      <td>R2</td>\n",
       "    </tr>\n",
       "    <tr>\n",
       "      <th>...</th>\n",
       "      <td>...</td>\n",
       "      <td>...</td>\n",
       "      <td>...</td>\n",
       "      <td>...</td>\n",
       "      <td>...</td>\n",
       "      <td>...</td>\n",
       "      <td>...</td>\n",
       "      <td>...</td>\n",
       "    </tr>\n",
       "    <tr>\n",
       "      <th>71947</th>\n",
       "      <td>M00493:565:000000000-JRNM9:1:2117:22884:2876</td>\n",
       "      <td>4</td>\n",
       "      <td>15</td>\n",
       "      <td>159</td>\n",
       "      <td>15</td>\n",
       "      <td>219</td>\n",
       "      <td>GTCGGATGCCTCAGGTTTATGCGTTGTGCTGGGTTCTATAGGGTAC...</td>\n",
       "      <td>R2</td>\n",
       "    </tr>\n",
       "    <tr>\n",
       "      <th>71948</th>\n",
       "      <td>f9587ab3-9ca1-4af4-8230-d2db37e13241</td>\n",
       "      <td>1</td>\n",
       "      <td>1</td>\n",
       "      <td>135</td>\n",
       "      <td>3</td>\n",
       "      <td>206</td>\n",
       "      <td>GTCGGATGCCACATCTTACCTATCGGGGCCACGTGGGTAGTGTCTA...</td>\n",
       "      <td>R2</td>\n",
       "    </tr>\n",
       "    <tr>\n",
       "      <th>71949</th>\n",
       "      <td>M00493:565:000000000-JRNM9:1:1115:16164:21354</td>\n",
       "      <td>10</td>\n",
       "      <td>36</td>\n",
       "      <td>34</td>\n",
       "      <td>31</td>\n",
       "      <td>220</td>\n",
       "      <td>GTCGGATGCCAATGGCGGAGTTATGTAAATTTTGTAAGTGATTGGG...</td>\n",
       "      <td>R2</td>\n",
       "    </tr>\n",
       "    <tr>\n",
       "      <th>71950</th>\n",
       "      <td>M00493:565:000000000-JRNM9:1:1115:22975:7680</td>\n",
       "      <td>14</td>\n",
       "      <td>47</td>\n",
       "      <td>155</td>\n",
       "      <td>18</td>\n",
       "      <td>220</td>\n",
       "      <td>GTCGGATGCCGCATTCTGTTTATTGGATTCAACCACTTTGGAGATT...</td>\n",
       "      <td>R2</td>\n",
       "    </tr>\n",
       "    <tr>\n",
       "      <th>71951</th>\n",
       "      <td>M00493:565:000000000-JRNM9:1:1107:18789:2008</td>\n",
       "      <td>1</td>\n",
       "      <td>13</td>\n",
       "      <td>160</td>\n",
       "      <td>80</td>\n",
       "      <td>220</td>\n",
       "      <td>GTCGGATGCCCATGGTCTGATCGTAAGTTTGGAGTTTAATCCTGTA...</td>\n",
       "      <td>R2</td>\n",
       "    </tr>\n",
       "  </tbody>\n",
       "</table>\n",
       "<p>71952 rows × 8 columns</p>\n",
       "</div>"
      ],
      "text/plain": [
       "                                           centeriod  seqs  size  position  \\\n",
       "0      M00493:565:000000000-JRNM9:1:1116:22284:15326     2     6       104   \n",
       "1               ab89ae7d-da33-4596-8fb3-e3d3cdc65743     2     2        94   \n",
       "2      M00493:565:000000000-JRNM9:1:2118:27640:17638     2    15        51   \n",
       "3               6412fc40-03de-4f54-864e-d7a4dbc063c3     1     1        67   \n",
       "4               a62420c6-9f0a-48cc-960c-dde0c857e30b     1     1        83   \n",
       "...                                              ...   ...   ...       ...   \n",
       "71947   M00493:565:000000000-JRNM9:1:2117:22884:2876     4    15       159   \n",
       "71948           f9587ab3-9ca1-4af4-8230-d2db37e13241     1     1       135   \n",
       "71949  M00493:565:000000000-JRNM9:1:1115:16164:21354    10    36        34   \n",
       "71950   M00493:565:000000000-JRNM9:1:1115:22975:7680    14    47       155   \n",
       "71951   M00493:565:000000000-JRNM9:1:1107:18789:2008     1    13       160   \n",
       "\n",
       "       mapped  length                                           sequence  \\\n",
       "0           6     219  GTCGGATGCCCAGCCTATAGTGTTTTTAGAATGTGACTTAGTTGGA...   \n",
       "1           4     162  GTCGGATGCCTAATTGACCCGTTCGGTGGTGTTGGATTTAATTTAG...   \n",
       "2          10     221  GTCGGATGCCATGTGTCCATAGGCGGCACTCACTTTGCATATTAAG...   \n",
       "3           3     153  GTCGGATGCCATCATCATATTCTTTTAGCGTTTGGGGCTTTTGCCG...   \n",
       "4           4     216  GTCGGATGCCAGCCAGTATATCTATGCGTAACGGTAAGACGGTGGG...   \n",
       "...       ...     ...                                                ...   \n",
       "71947      15     219  GTCGGATGCCTCAGGTTTATGCGTTGTGCTGGGTTCTATAGGGTAC...   \n",
       "71948       3     206  GTCGGATGCCACATCTTACCTATCGGGGCCACGTGGGTAGTGTCTA...   \n",
       "71949      31     220  GTCGGATGCCAATGGCGGAGTTATGTAAATTTTGTAAGTGATTGGG...   \n",
       "71950      18     220  GTCGGATGCCGCATTCTGTTTATTGGATTCAACCACTTTGGAGATT...   \n",
       "71951      80     220  GTCGGATGCCCATGGTCTGATCGTAAGTTTGGAGTTTAATCCTGTA...   \n",
       "\n",
       "      source  \n",
       "0         R2  \n",
       "1         R2  \n",
       "2         R2  \n",
       "3         R2  \n",
       "4         R2  \n",
       "...      ...  \n",
       "71947     R2  \n",
       "71948     R2  \n",
       "71949     R2  \n",
       "71950     R2  \n",
       "71951     R2  \n",
       "\n",
       "[71952 rows x 8 columns]"
      ]
     },
     "execution_count": 34,
     "metadata": {},
     "output_type": "execute_result"
    }
   ],
   "source": [
    "r2"
   ]
  },
  {
   "cell_type": "code",
   "execution_count": 35,
   "id": "233cc93a",
   "metadata": {},
   "outputs": [
    {
     "data": {
      "text/html": [
       "<div>\n",
       "<style scoped>\n",
       "    .dataframe tbody tr th:only-of-type {\n",
       "        vertical-align: middle;\n",
       "    }\n",
       "\n",
       "    .dataframe tbody tr th {\n",
       "        vertical-align: top;\n",
       "    }\n",
       "\n",
       "    .dataframe thead th {\n",
       "        text-align: right;\n",
       "    }\n",
       "</style>\n",
       "<table border=\"1\" class=\"dataframe\">\n",
       "  <thead>\n",
       "    <tr style=\"text-align: right;\">\n",
       "      <th></th>\n",
       "      <th>centeriod</th>\n",
       "      <th>seqs</th>\n",
       "      <th>size</th>\n",
       "      <th>position</th>\n",
       "      <th>mapped</th>\n",
       "      <th>length</th>\n",
       "      <th>sequence</th>\n",
       "      <th>source</th>\n",
       "    </tr>\n",
       "  </thead>\n",
       "  <tbody>\n",
       "    <tr>\n",
       "      <th>0</th>\n",
       "      <td>M00493:565:000000000-JRNM9:1:1116:22284:15326</td>\n",
       "      <td>2</td>\n",
       "      <td>6</td>\n",
       "      <td>104</td>\n",
       "      <td>6</td>\n",
       "      <td>219</td>\n",
       "      <td>GTCGGATGCCCAGCCTATAGTGTTTTTAGAATGTGACTTAGTTGGA...</td>\n",
       "      <td>R2</td>\n",
       "    </tr>\n",
       "    <tr>\n",
       "      <th>1</th>\n",
       "      <td>ab89ae7d-da33-4596-8fb3-e3d3cdc65743</td>\n",
       "      <td>2</td>\n",
       "      <td>2</td>\n",
       "      <td>94</td>\n",
       "      <td>4</td>\n",
       "      <td>162</td>\n",
       "      <td>GTCGGATGCCTAATTGACCCGTTCGGTGGTGTTGGATTTAATTTAG...</td>\n",
       "      <td>R2</td>\n",
       "    </tr>\n",
       "    <tr>\n",
       "      <th>2</th>\n",
       "      <td>M00493:565:000000000-JRNM9:1:2118:27640:17638</td>\n",
       "      <td>2</td>\n",
       "      <td>15</td>\n",
       "      <td>51</td>\n",
       "      <td>10</td>\n",
       "      <td>221</td>\n",
       "      <td>GTCGGATGCCATGTGTCCATAGGCGGCACTCACTTTGCATATTAAG...</td>\n",
       "      <td>R2</td>\n",
       "    </tr>\n",
       "    <tr>\n",
       "      <th>3</th>\n",
       "      <td>6412fc40-03de-4f54-864e-d7a4dbc063c3</td>\n",
       "      <td>1</td>\n",
       "      <td>1</td>\n",
       "      <td>67</td>\n",
       "      <td>3</td>\n",
       "      <td>153</td>\n",
       "      <td>GTCGGATGCCATCATCATATTCTTTTAGCGTTTGGGGCTTTTGCCG...</td>\n",
       "      <td>R2</td>\n",
       "    </tr>\n",
       "    <tr>\n",
       "      <th>4</th>\n",
       "      <td>a62420c6-9f0a-48cc-960c-dde0c857e30b</td>\n",
       "      <td>1</td>\n",
       "      <td>1</td>\n",
       "      <td>83</td>\n",
       "      <td>4</td>\n",
       "      <td>216</td>\n",
       "      <td>GTCGGATGCCAGCCAGTATATCTATGCGTAACGGTAAGACGGTGGG...</td>\n",
       "      <td>R2</td>\n",
       "    </tr>\n",
       "  </tbody>\n",
       "</table>\n",
       "</div>"
      ],
      "text/plain": [
       "                                       centeriod  seqs  size  position  \\\n",
       "0  M00493:565:000000000-JRNM9:1:1116:22284:15326     2     6       104   \n",
       "1           ab89ae7d-da33-4596-8fb3-e3d3cdc65743     2     2        94   \n",
       "2  M00493:565:000000000-JRNM9:1:2118:27640:17638     2    15        51   \n",
       "3           6412fc40-03de-4f54-864e-d7a4dbc063c3     1     1        67   \n",
       "4           a62420c6-9f0a-48cc-960c-dde0c857e30b     1     1        83   \n",
       "\n",
       "   mapped  length                                           sequence source  \n",
       "0       6     219  GTCGGATGCCCAGCCTATAGTGTTTTTAGAATGTGACTTAGTTGGA...     R2  \n",
       "1       4     162  GTCGGATGCCTAATTGACCCGTTCGGTGGTGTTGGATTTAATTTAG...     R2  \n",
       "2      10     221  GTCGGATGCCATGTGTCCATAGGCGGCACTCACTTTGCATATTAAG...     R2  \n",
       "3       3     153  GTCGGATGCCATCATCATATTCTTTTAGCGTTTGGGGCTTTTGCCG...     R2  \n",
       "4       4     216  GTCGGATGCCAGCCAGTATATCTATGCGTAACGGTAAGACGGTGGG...     R2  "
      ]
     },
     "execution_count": 35,
     "metadata": {},
     "output_type": "execute_result"
    }
   ],
   "source": [
    "rs.head()"
   ]
  },
  {
   "cell_type": "markdown",
   "id": "5b68e1d7-720a-4040-9f34-c876f8072000",
   "metadata": {},
   "source": [
    "This line of code is calculating summary statistics on the 'mapped' column for sample R2. The specified percentiles are 0.5, 0.8, 0.9, and 0.99. This will give insights into the distribution of the 'mapped' values within each group of 'source'."
   ]
  },
  {
   "cell_type": "code",
   "execution_count": 36,
   "id": "f5a624d5",
   "metadata": {},
   "outputs": [
    {
     "data": {
      "text/html": [
       "<div>\n",
       "<style scoped>\n",
       "    .dataframe tbody tr th:only-of-type {\n",
       "        vertical-align: middle;\n",
       "    }\n",
       "\n",
       "    .dataframe tbody tr th {\n",
       "        vertical-align: top;\n",
       "    }\n",
       "\n",
       "    .dataframe thead th {\n",
       "        text-align: right;\n",
       "    }\n",
       "</style>\n",
       "<table border=\"1\" class=\"dataframe\">\n",
       "  <thead>\n",
       "    <tr style=\"text-align: right;\">\n",
       "      <th></th>\n",
       "      <th>count</th>\n",
       "      <th>mean</th>\n",
       "      <th>std</th>\n",
       "      <th>min</th>\n",
       "      <th>50%</th>\n",
       "      <th>80%</th>\n",
       "      <th>90%</th>\n",
       "      <th>99%</th>\n",
       "      <th>max</th>\n",
       "    </tr>\n",
       "    <tr>\n",
       "      <th>source</th>\n",
       "      <th></th>\n",
       "      <th></th>\n",
       "      <th></th>\n",
       "      <th></th>\n",
       "      <th></th>\n",
       "      <th></th>\n",
       "      <th></th>\n",
       "      <th></th>\n",
       "      <th></th>\n",
       "    </tr>\n",
       "  </thead>\n",
       "  <tbody>\n",
       "    <tr>\n",
       "      <th>R2</th>\n",
       "      <td>71952.0</td>\n",
       "      <td>33.227082</td>\n",
       "      <td>168.736636</td>\n",
       "      <td>3.0</td>\n",
       "      <td>12.0</td>\n",
       "      <td>36.0</td>\n",
       "      <td>58.0</td>\n",
       "      <td>298.0</td>\n",
       "      <td>11469.0</td>\n",
       "    </tr>\n",
       "  </tbody>\n",
       "</table>\n",
       "</div>"
      ],
      "text/plain": [
       "          count       mean         std  min   50%   80%   90%    99%      max\n",
       "source                                                                       \n",
       "R2      71952.0  33.227082  168.736636  3.0  12.0  36.0  58.0  298.0  11469.0"
      ]
     },
     "execution_count": 36,
     "metadata": {},
     "output_type": "execute_result"
    }
   ],
   "source": [
    "rs.groupby('source')['mapped'].describe(percentiles=[0.5,0.8,0.9,0.99])"
   ]
  },
  {
   "cell_type": "markdown",
   "id": "e767fb1a-f205-4cf8-bde0-bca1b300d0a6",
   "metadata": {},
   "source": [
    "get_prom_utr function code. This function takes a row r from the DataFrame and calculates two new columns, promoter 'prom' and 5'UTR 'utr', based on the 'sequence' and 'position' columns. The 'prom' column contains the substring of the 'sequence' column from the beginning up to the 'position' - 1 index, and the 'utr' column contains the substring of the 'sequence' column from the 'position' index onward."
   ]
  },
  {
   "cell_type": "code",
   "execution_count": 37,
   "id": "10baeec8",
   "metadata": {},
   "outputs": [],
   "source": [
    "def get_prom_utr(r):\n",
    "    r['prom'] = r['sequence'][:r['position']-1]\n",
    "    r['utr'] = r['sequence'][r['position']:]\n",
    "    return r"
   ]
  },
  {
   "cell_type": "markdown",
   "id": "7728ec38-f2c0-4457-aa87-9566e393d586",
   "metadata": {},
   "source": [
    "The code rs = rs.apply(get_prom_utr, axis=1) is using the apply method on the DataFrame rs to apply the function get_prom_utr row-wise along the axis 1"
   ]
  },
  {
   "cell_type": "code",
   "execution_count": 38,
   "id": "4131ced4",
   "metadata": {},
   "outputs": [],
   "source": [
    "rs = rs.apply(get_prom_utr, axis=1)"
   ]
  },
  {
   "cell_type": "markdown",
   "id": "3893f137-d994-424d-8124-aa493cdd5b04",
   "metadata": {},
   "source": [
    "These lines of code are calculating the lengths of the sequences in the 'prom' and 'utr' columns for each row of the DataFrame rs and storing these lengths in new columns 'plen' (promoter length) and 'ulen' (5'UTR length), respectively. "
   ]
  },
  {
   "cell_type": "code",
   "execution_count": 39,
   "id": "3d87919f",
   "metadata": {},
   "outputs": [],
   "source": [
    "rs['plen'] = rs.prom.str.len()\n",
    "rs['ulen'] = rs.utr.str.len()"
   ]
  },
  {
   "cell_type": "code",
   "execution_count": 40,
   "id": "233b59e6",
   "metadata": {},
   "outputs": [
    {
     "name": "stdout",
     "output_type": "stream",
     "text": [
      "0        GTCGGATGCCCAGCCTATAGTGTTTTTAGAATGTGACTTAGTTGGA...\n",
      "1        GTCGGATGCCTAATTGACCCGTTCGGTGGTGTTGGATTTAATTTAG...\n",
      "2        GTCGGATGCCATGTGTCCATAGGCGGCACTCACTTTGCATATTAAG...\n",
      "3        GTCGGATGCCATCATCATATTCTTTTAGCGTTTGGGGCTTTTGCCG...\n",
      "4        GTCGGATGCCAGCCAGTATATCTATGCGTAACGGTAAGACGGTGGG...\n",
      "                               ...                        \n",
      "71947    GTCGGATGCCTCAGGTTTATGCGTTGTGCTGGGTTCTATAGGGTAC...\n",
      "71948    GTCGGATGCCACATCTTACCTATCGGGGCCACGTGGGTAGTGTCTA...\n",
      "71949                    GTCGGATGCCAATGGCGGAGTTATGTAAATTTT\n",
      "71950    GTCGGATGCCGCATTCTGTTTATTGGATTCAACCACTTTGGAGATT...\n",
      "71951    GTCGGATGCCCATGGTCTGATCGTAAGTTTGGAGTTTAATCCTGTA...\n",
      "Name: prom, Length: 71952, dtype: object\n"
     ]
    }
   ],
   "source": [
    "print( rs.prom)"
   ]
  },
  {
   "cell_type": "markdown",
   "id": "85d01e9b-e1f8-4cfe-af30-f56abcc050a1",
   "metadata": {},
   "source": [
    "This code is using the shape attribute and the .query() method to analyze the dimensions (number of rows and columns) of the DataFrame rs and a filtered subset of it based on specific conditions.\n",
    "Here's what the code does: rs.query(\"plen > 80 and ulen > 30\").shape: This applies a query to the DataFrame rs, filtering rows where the value in the 'plen' column is greater than 80 and the value in the 'ulen' column is greater than 30. It then calculates the dimensions (number of rows and columns) of this filtered subset."
   ]
  },
  {
   "cell_type": "code",
   "execution_count": 41,
   "id": "bf367a54",
   "metadata": {},
   "outputs": [
    {
     "data": {
      "text/plain": [
       "((71952, 12), (52386, 12))"
      ]
     },
     "execution_count": 41,
     "metadata": {},
     "output_type": "execute_result"
    }
   ],
   "source": [
    "rs.shape, rs.query(\"plen > 80 and ulen > 30\").shape"
   ]
  },
  {
   "cell_type": "code",
   "execution_count": 42,
   "id": "e9cd7bcf",
   "metadata": {},
   "outputs": [
    {
     "data": {
      "text/html": [
       "<div>\n",
       "<style scoped>\n",
       "    .dataframe tbody tr th:only-of-type {\n",
       "        vertical-align: middle;\n",
       "    }\n",
       "\n",
       "    .dataframe tbody tr th {\n",
       "        vertical-align: top;\n",
       "    }\n",
       "\n",
       "    .dataframe thead th {\n",
       "        text-align: right;\n",
       "    }\n",
       "</style>\n",
       "<table border=\"1\" class=\"dataframe\">\n",
       "  <thead>\n",
       "    <tr style=\"text-align: right;\">\n",
       "      <th></th>\n",
       "      <th>centeriod</th>\n",
       "      <th>seqs</th>\n",
       "      <th>size</th>\n",
       "      <th>position</th>\n",
       "      <th>mapped</th>\n",
       "      <th>length</th>\n",
       "      <th>sequence</th>\n",
       "      <th>source</th>\n",
       "      <th>prom</th>\n",
       "      <th>utr</th>\n",
       "      <th>plen</th>\n",
       "      <th>ulen</th>\n",
       "    </tr>\n",
       "  </thead>\n",
       "  <tbody>\n",
       "    <tr>\n",
       "      <th>0</th>\n",
       "      <td>M00493:565:000000000-JRNM9:1:1116:22284:15326</td>\n",
       "      <td>2</td>\n",
       "      <td>6</td>\n",
       "      <td>104</td>\n",
       "      <td>6</td>\n",
       "      <td>219</td>\n",
       "      <td>GTCGGATGCCCAGCCTATAGTGTTTTTAGAATGTGACTTAGTTGGA...</td>\n",
       "      <td>R2</td>\n",
       "      <td>GTCGGATGCCCAGCCTATAGTGTTTTTAGAATGTGACTTAGTTGGA...</td>\n",
       "      <td>GGTCGGGCAGTTTTAGCTTTCGCTTCTAATCACGAGCTGTATCATT...</td>\n",
       "      <td>103</td>\n",
       "      <td>115</td>\n",
       "    </tr>\n",
       "    <tr>\n",
       "      <th>1</th>\n",
       "      <td>ab89ae7d-da33-4596-8fb3-e3d3cdc65743</td>\n",
       "      <td>2</td>\n",
       "      <td>2</td>\n",
       "      <td>94</td>\n",
       "      <td>4</td>\n",
       "      <td>162</td>\n",
       "      <td>GTCGGATGCCTAATTGACCCGTTCGGTGGTGTTGGATTTAATTTAG...</td>\n",
       "      <td>R2</td>\n",
       "      <td>GTCGGATGCCTAATTGACCCGTTCGGTGGTGTTGGATTTAATTTAG...</td>\n",
       "      <td>TATGTCAATTGAGTTAATTGACAGAACTCTCTTTATCGGTGCTTGG...</td>\n",
       "      <td>93</td>\n",
       "      <td>68</td>\n",
       "    </tr>\n",
       "    <tr>\n",
       "      <th>2</th>\n",
       "      <td>M00493:565:000000000-JRNM9:1:2118:27640:17638</td>\n",
       "      <td>2</td>\n",
       "      <td>15</td>\n",
       "      <td>51</td>\n",
       "      <td>10</td>\n",
       "      <td>221</td>\n",
       "      <td>GTCGGATGCCATGTGTCCATAGGCGGCACTCACTTTGCATATTAAG...</td>\n",
       "      <td>R2</td>\n",
       "      <td>GTCGGATGCCATGTGTCCATAGGCGGCACTCACTTTGCATATTAAG...</td>\n",
       "      <td>TGTCCTTCTGTCCGTCACTCCGTTCATCCTCACTGGGTAAATGTTA...</td>\n",
       "      <td>50</td>\n",
       "      <td>170</td>\n",
       "    </tr>\n",
       "    <tr>\n",
       "      <th>3</th>\n",
       "      <td>6412fc40-03de-4f54-864e-d7a4dbc063c3</td>\n",
       "      <td>1</td>\n",
       "      <td>1</td>\n",
       "      <td>67</td>\n",
       "      <td>3</td>\n",
       "      <td>153</td>\n",
       "      <td>GTCGGATGCCATCATCATATTCTTTTAGCGTTTGGGGCTTTTGCCG...</td>\n",
       "      <td>R2</td>\n",
       "      <td>GTCGGATGCCATCATCATATTCTTTTAGCGTTTGGGGCTTTTGCCG...</td>\n",
       "      <td>GGTGAAGTATGTAAAACGATGTAGCAGTTCTATTTTTTTTCACAAT...</td>\n",
       "      <td>66</td>\n",
       "      <td>86</td>\n",
       "    </tr>\n",
       "    <tr>\n",
       "      <th>4</th>\n",
       "      <td>a62420c6-9f0a-48cc-960c-dde0c857e30b</td>\n",
       "      <td>1</td>\n",
       "      <td>1</td>\n",
       "      <td>83</td>\n",
       "      <td>4</td>\n",
       "      <td>216</td>\n",
       "      <td>GTCGGATGCCAGCCAGTATATCTATGCGTAACGGTAAGACGGTGGG...</td>\n",
       "      <td>R2</td>\n",
       "      <td>GTCGGATGCCAGCCAGTATATCTATGCGTAACGGTAAGACGGTGGG...</td>\n",
       "      <td>TTATGAAGGATGGTTCATTTTCAATTCGCAGTTCTGTGCATTAGCG...</td>\n",
       "      <td>82</td>\n",
       "      <td>133</td>\n",
       "    </tr>\n",
       "  </tbody>\n",
       "</table>\n",
       "</div>"
      ],
      "text/plain": [
       "                                       centeriod  seqs  size  position  \\\n",
       "0  M00493:565:000000000-JRNM9:1:1116:22284:15326     2     6       104   \n",
       "1           ab89ae7d-da33-4596-8fb3-e3d3cdc65743     2     2        94   \n",
       "2  M00493:565:000000000-JRNM9:1:2118:27640:17638     2    15        51   \n",
       "3           6412fc40-03de-4f54-864e-d7a4dbc063c3     1     1        67   \n",
       "4           a62420c6-9f0a-48cc-960c-dde0c857e30b     1     1        83   \n",
       "\n",
       "   mapped  length                                           sequence source  \\\n",
       "0       6     219  GTCGGATGCCCAGCCTATAGTGTTTTTAGAATGTGACTTAGTTGGA...     R2   \n",
       "1       4     162  GTCGGATGCCTAATTGACCCGTTCGGTGGTGTTGGATTTAATTTAG...     R2   \n",
       "2      10     221  GTCGGATGCCATGTGTCCATAGGCGGCACTCACTTTGCATATTAAG...     R2   \n",
       "3       3     153  GTCGGATGCCATCATCATATTCTTTTAGCGTTTGGGGCTTTTGCCG...     R2   \n",
       "4       4     216  GTCGGATGCCAGCCAGTATATCTATGCGTAACGGTAAGACGGTGGG...     R2   \n",
       "\n",
       "                                                prom  \\\n",
       "0  GTCGGATGCCCAGCCTATAGTGTTTTTAGAATGTGACTTAGTTGGA...   \n",
       "1  GTCGGATGCCTAATTGACCCGTTCGGTGGTGTTGGATTTAATTTAG...   \n",
       "2  GTCGGATGCCATGTGTCCATAGGCGGCACTCACTTTGCATATTAAG...   \n",
       "3  GTCGGATGCCATCATCATATTCTTTTAGCGTTTGGGGCTTTTGCCG...   \n",
       "4  GTCGGATGCCAGCCAGTATATCTATGCGTAACGGTAAGACGGTGGG...   \n",
       "\n",
       "                                                 utr  plen  ulen  \n",
       "0  GGTCGGGCAGTTTTAGCTTTCGCTTCTAATCACGAGCTGTATCATT...   103   115  \n",
       "1  TATGTCAATTGAGTTAATTGACAGAACTCTCTTTATCGGTGCTTGG...    93    68  \n",
       "2  TGTCCTTCTGTCCGTCACTCCGTTCATCCTCACTGGGTAAATGTTA...    50   170  \n",
       "3  GGTGAAGTATGTAAAACGATGTAGCAGTTCTATTTTTTTTCACAAT...    66    86  \n",
       "4  TTATGAAGGATGGTTCATTTTCAATTCGCAGTTCTGTGCATTAGCG...    82   133  "
      ]
     },
     "execution_count": 42,
     "metadata": {},
     "output_type": "execute_result"
    }
   ],
   "source": [
    "rs.head()"
   ]
  },
  {
   "cell_type": "markdown",
   "id": "f52aa5e6-7665-4d49-bbcc-5ba467c40d51",
   "metadata": {},
   "source": [
    "The code performs several operations on the DataFrame rs.\n",
    "rs = rs.query(\"length < 300\"): This filters the DataFrame rs to keep only the rows where the value in the 'length' column is less than 300.\n",
    "rs.prom = rs.prom.str[10:]: This modifies the 'prom' column of the DataFrame rs by removing the first 10 characters from each string in the column. It's essentially removing the first 10 characters from each string.\n",
    "rs.utr = rs.utr.str[:-10]: This modifies the 'utr' column of the DataFrame rs by removing the last 10 characters from each string in the column. It's removing the last 10 characters from each string."
   ]
  },
  {
   "cell_type": "code",
   "execution_count": 43,
   "id": "2c2e40b4",
   "metadata": {},
   "outputs": [],
   "source": [
    "rs = rs.query(\"length < 300\")\n",
    "rs.prom = rs.prom.str[10:]\n",
    "rs.utr = rs.utr.str[:-10]"
   ]
  },
  {
   "cell_type": "markdown",
   "id": "3151bf94-a537-4eb1-87d8-8caf629690f0",
   "metadata": {},
   "source": [
    "The code continues to manipulate the DataFrame rs and introduces some new columns.\n",
    "rs['plen'] = rs.prom.str.len(): This adds a new column named 'plen' to the DataFrame rs. The values in this column are calculated by getting the length (number of characters) of each string in the 'prom' column.\n",
    "rs['ulen'] = rs.utr.str.len(): Similarly, this adds a new column named 'ulen' to the DataFrame rs. The values in this column are calculated by getting the length of each string in the 'utr' column.\n",
    "frs = rs.query(\"plen >= 40\"): This creates a new DataFrame frs by filtering the DataFrame rs. It keeps only the rows where the value in the 'plen' column is greater than or equal to 40."
   ]
  },
  {
   "cell_type": "code",
   "execution_count": 44,
   "id": "4283b1f2",
   "metadata": {},
   "outputs": [],
   "source": [
    "rs['plen'] = rs.prom.str.len()\n",
    "rs['ulen'] = rs.utr.str.len()\n",
    "frs = rs.query(\"plen >= 40\")"
   ]
  },
  {
   "cell_type": "markdown",
   "id": "540531dd-f781-4dde-b003-091f942797e8",
   "metadata": {},
   "source": [
    "The code use the .to_parquet() method to save the DataFrame rs to a Parquet file. "
   ]
  },
  {
   "cell_type": "code",
   "execution_count": 45,
   "id": "f546a87f",
   "metadata": {},
   "outputs": [],
   "source": [
    "rs.to_parquet(f\"{path}/data_uniq.pq\")"
   ]
  },
  {
   "cell_type": "markdown",
   "id": "434186be-1d9a-44f7-b96e-5d36e36f5891",
   "metadata": {},
   "source": [
    "Using the pd.read_parquet() function to read data from a Parquet file back into a DataFrame. "
   ]
  },
  {
   "cell_type": "code",
   "execution_count": 46,
   "id": "50c9b24a",
   "metadata": {},
   "outputs": [],
   "source": [
    "rs = pd.read_parquet(f\"{path}/data_uniq.pq\")"
   ]
  },
  {
   "cell_type": "code",
   "execution_count": 47,
   "id": "77ce355d",
   "metadata": {},
   "outputs": [
    {
     "data": {
      "text/html": [
       "<div>\n",
       "<style scoped>\n",
       "    .dataframe tbody tr th:only-of-type {\n",
       "        vertical-align: middle;\n",
       "    }\n",
       "\n",
       "    .dataframe tbody tr th {\n",
       "        vertical-align: top;\n",
       "    }\n",
       "\n",
       "    .dataframe thead th {\n",
       "        text-align: right;\n",
       "    }\n",
       "</style>\n",
       "<table border=\"1\" class=\"dataframe\">\n",
       "  <thead>\n",
       "    <tr style=\"text-align: right;\">\n",
       "      <th></th>\n",
       "      <th>centeriod</th>\n",
       "      <th>seqs</th>\n",
       "      <th>size</th>\n",
       "      <th>position</th>\n",
       "      <th>mapped</th>\n",
       "      <th>length</th>\n",
       "      <th>sequence</th>\n",
       "      <th>prom</th>\n",
       "      <th>utr</th>\n",
       "      <th>plen</th>\n",
       "      <th>ulen</th>\n",
       "    </tr>\n",
       "    <tr>\n",
       "      <th>source</th>\n",
       "      <th></th>\n",
       "      <th></th>\n",
       "      <th></th>\n",
       "      <th></th>\n",
       "      <th></th>\n",
       "      <th></th>\n",
       "      <th></th>\n",
       "      <th></th>\n",
       "      <th></th>\n",
       "      <th></th>\n",
       "      <th></th>\n",
       "    </tr>\n",
       "  </thead>\n",
       "  <tbody>\n",
       "    <tr>\n",
       "      <th>R2</th>\n",
       "      <td>71893</td>\n",
       "      <td>71893</td>\n",
       "      <td>71893</td>\n",
       "      <td>71893</td>\n",
       "      <td>71893</td>\n",
       "      <td>71893</td>\n",
       "      <td>71893</td>\n",
       "      <td>71893</td>\n",
       "      <td>71893</td>\n",
       "      <td>71893</td>\n",
       "      <td>71893</td>\n",
       "    </tr>\n",
       "  </tbody>\n",
       "</table>\n",
       "</div>"
      ],
      "text/plain": [
       "        centeriod   seqs   size  position  mapped  length  sequence   prom  \\\n",
       "source                                                                       \n",
       "R2          71893  71893  71893     71893   71893   71893     71893  71893   \n",
       "\n",
       "          utr   plen   ulen  \n",
       "source                       \n",
       "R2      71893  71893  71893  "
      ]
     },
     "execution_count": 47,
     "metadata": {},
     "output_type": "execute_result"
    }
   ],
   "source": [
    "rs.groupby('source').count()"
   ]
  },
  {
   "cell_type": "code",
   "execution_count": 48,
   "id": "0cb1bf13",
   "metadata": {},
   "outputs": [
    {
     "data": {
      "text/html": [
       "<div>\n",
       "<style scoped>\n",
       "    .dataframe tbody tr th:only-of-type {\n",
       "        vertical-align: middle;\n",
       "    }\n",
       "\n",
       "    .dataframe tbody tr th {\n",
       "        vertical-align: top;\n",
       "    }\n",
       "\n",
       "    .dataframe thead th {\n",
       "        text-align: right;\n",
       "    }\n",
       "</style>\n",
       "<table border=\"1\" class=\"dataframe\">\n",
       "  <thead>\n",
       "    <tr style=\"text-align: right;\">\n",
       "      <th></th>\n",
       "      <th>centeriod</th>\n",
       "      <th>seqs</th>\n",
       "      <th>size</th>\n",
       "      <th>position</th>\n",
       "      <th>mapped</th>\n",
       "      <th>length</th>\n",
       "      <th>sequence</th>\n",
       "      <th>source</th>\n",
       "      <th>prom</th>\n",
       "      <th>utr</th>\n",
       "      <th>plen</th>\n",
       "      <th>ulen</th>\n",
       "    </tr>\n",
       "  </thead>\n",
       "  <tbody>\n",
       "    <tr>\n",
       "      <th>0</th>\n",
       "      <td>M00493:565:000000000-JRNM9:1:1116:22284:15326</td>\n",
       "      <td>2</td>\n",
       "      <td>6</td>\n",
       "      <td>104</td>\n",
       "      <td>6</td>\n",
       "      <td>219</td>\n",
       "      <td>GTCGGATGCCCAGCCTATAGTGTTTTTAGAATGTGACTTAGTTGGA...</td>\n",
       "      <td>R2</td>\n",
       "      <td>CAGCCTATAGTGTTTTTAGAATGTGACTTAGTTGGAAGTACGGTAT...</td>\n",
       "      <td>GGTCGGGCAGTTTTAGCTTTCGCTTCTAATCACGAGCTGTATCATT...</td>\n",
       "      <td>93</td>\n",
       "      <td>105</td>\n",
       "    </tr>\n",
       "    <tr>\n",
       "      <th>1</th>\n",
       "      <td>ab89ae7d-da33-4596-8fb3-e3d3cdc65743</td>\n",
       "      <td>2</td>\n",
       "      <td>2</td>\n",
       "      <td>94</td>\n",
       "      <td>4</td>\n",
       "      <td>162</td>\n",
       "      <td>GTCGGATGCCTAATTGACCCGTTCGGTGGTGTTGGATTTAATTTAG...</td>\n",
       "      <td>R2</td>\n",
       "      <td>TAATTGACCCGTTCGGTGGTGTTGGATTTAATTTAGATATTGTGTC...</td>\n",
       "      <td>TATGTCAATTGAGTTAATTGACAGAACTCTCTTTATCGGTGCTTGG...</td>\n",
       "      <td>83</td>\n",
       "      <td>58</td>\n",
       "    </tr>\n",
       "    <tr>\n",
       "      <th>2</th>\n",
       "      <td>M00493:565:000000000-JRNM9:1:2118:27640:17638</td>\n",
       "      <td>2</td>\n",
       "      <td>15</td>\n",
       "      <td>51</td>\n",
       "      <td>10</td>\n",
       "      <td>221</td>\n",
       "      <td>GTCGGATGCCATGTGTCCATAGGCGGCACTCACTTTGCATATTAAG...</td>\n",
       "      <td>R2</td>\n",
       "      <td>ATGTGTCCATAGGCGGCACTCACTTTGCATATTAAGGGGT</td>\n",
       "      <td>TGTCCTTCTGTCCGTCACTCCGTTCATCCTCACTGGGTAAATGTTA...</td>\n",
       "      <td>40</td>\n",
       "      <td>160</td>\n",
       "    </tr>\n",
       "    <tr>\n",
       "      <th>3</th>\n",
       "      <td>6412fc40-03de-4f54-864e-d7a4dbc063c3</td>\n",
       "      <td>1</td>\n",
       "      <td>1</td>\n",
       "      <td>67</td>\n",
       "      <td>3</td>\n",
       "      <td>153</td>\n",
       "      <td>GTCGGATGCCATCATCATATTCTTTTAGCGTTTGGGGCTTTTGCCG...</td>\n",
       "      <td>R2</td>\n",
       "      <td>ATCATCATATTCTTTTAGCGTTTGGGGCTTTTGCCGTAGCGTACTT...</td>\n",
       "      <td>GGTGAAGTATGTAAAACGATGTAGCAGTTCTATTTTTTTTCACAAT...</td>\n",
       "      <td>56</td>\n",
       "      <td>76</td>\n",
       "    </tr>\n",
       "    <tr>\n",
       "      <th>4</th>\n",
       "      <td>a62420c6-9f0a-48cc-960c-dde0c857e30b</td>\n",
       "      <td>1</td>\n",
       "      <td>1</td>\n",
       "      <td>83</td>\n",
       "      <td>4</td>\n",
       "      <td>216</td>\n",
       "      <td>GTCGGATGCCAGCCAGTATATCTATGCGTAACGGTAAGACGGTGGG...</td>\n",
       "      <td>R2</td>\n",
       "      <td>AGCCAGTATATCTATGCGTAACGGTAAGACGGTGGGGTTTGATGTA...</td>\n",
       "      <td>TTATGAAGGATGGTTCATTTTCAATTCGCAGTTCTGTGCATTAGCG...</td>\n",
       "      <td>72</td>\n",
       "      <td>123</td>\n",
       "    </tr>\n",
       "  </tbody>\n",
       "</table>\n",
       "</div>"
      ],
      "text/plain": [
       "                                       centeriod  seqs  size  position  \\\n",
       "0  M00493:565:000000000-JRNM9:1:1116:22284:15326     2     6       104   \n",
       "1           ab89ae7d-da33-4596-8fb3-e3d3cdc65743     2     2        94   \n",
       "2  M00493:565:000000000-JRNM9:1:2118:27640:17638     2    15        51   \n",
       "3           6412fc40-03de-4f54-864e-d7a4dbc063c3     1     1        67   \n",
       "4           a62420c6-9f0a-48cc-960c-dde0c857e30b     1     1        83   \n",
       "\n",
       "   mapped  length                                           sequence source  \\\n",
       "0       6     219  GTCGGATGCCCAGCCTATAGTGTTTTTAGAATGTGACTTAGTTGGA...     R2   \n",
       "1       4     162  GTCGGATGCCTAATTGACCCGTTCGGTGGTGTTGGATTTAATTTAG...     R2   \n",
       "2      10     221  GTCGGATGCCATGTGTCCATAGGCGGCACTCACTTTGCATATTAAG...     R2   \n",
       "3       3     153  GTCGGATGCCATCATCATATTCTTTTAGCGTTTGGGGCTTTTGCCG...     R2   \n",
       "4       4     216  GTCGGATGCCAGCCAGTATATCTATGCGTAACGGTAAGACGGTGGG...     R2   \n",
       "\n",
       "                                                prom  \\\n",
       "0  CAGCCTATAGTGTTTTTAGAATGTGACTTAGTTGGAAGTACGGTAT...   \n",
       "1  TAATTGACCCGTTCGGTGGTGTTGGATTTAATTTAGATATTGTGTC...   \n",
       "2           ATGTGTCCATAGGCGGCACTCACTTTGCATATTAAGGGGT   \n",
       "3  ATCATCATATTCTTTTAGCGTTTGGGGCTTTTGCCGTAGCGTACTT...   \n",
       "4  AGCCAGTATATCTATGCGTAACGGTAAGACGGTGGGGTTTGATGTA...   \n",
       "\n",
       "                                                 utr  plen  ulen  \n",
       "0  GGTCGGGCAGTTTTAGCTTTCGCTTCTAATCACGAGCTGTATCATT...    93   105  \n",
       "1  TATGTCAATTGAGTTAATTGACAGAACTCTCTTTATCGGTGCTTGG...    83    58  \n",
       "2  TGTCCTTCTGTCCGTCACTCCGTTCATCCTCACTGGGTAAATGTTA...    40   160  \n",
       "3  GGTGAAGTATGTAAAACGATGTAGCAGTTCTATTTTTTTTCACAAT...    56    76  \n",
       "4  TTATGAAGGATGGTTCATTTTCAATTCGCAGTTCTGTGCATTAGCG...    72   123  "
      ]
     },
     "execution_count": 48,
     "metadata": {},
     "output_type": "execute_result"
    }
   ],
   "source": [
    "rs.head()"
   ]
  },
  {
   "cell_type": "code",
   "execution_count": 49,
   "id": "b2c6dce9",
   "metadata": {},
   "outputs": [
    {
     "data": {
      "text/html": [
       "<div>\n",
       "<style scoped>\n",
       "    .dataframe tbody tr th:only-of-type {\n",
       "        vertical-align: middle;\n",
       "    }\n",
       "\n",
       "    .dataframe tbody tr th {\n",
       "        vertical-align: top;\n",
       "    }\n",
       "\n",
       "    .dataframe thead th {\n",
       "        text-align: right;\n",
       "    }\n",
       "</style>\n",
       "<table border=\"1\" class=\"dataframe\">\n",
       "  <thead>\n",
       "    <tr style=\"text-align: right;\">\n",
       "      <th></th>\n",
       "      <th>centeriod</th>\n",
       "      <th>seqs</th>\n",
       "      <th>size</th>\n",
       "      <th>position</th>\n",
       "      <th>mapped</th>\n",
       "      <th>length</th>\n",
       "      <th>sequence</th>\n",
       "      <th>prom</th>\n",
       "      <th>utr</th>\n",
       "      <th>plen</th>\n",
       "      <th>ulen</th>\n",
       "    </tr>\n",
       "    <tr>\n",
       "      <th>source</th>\n",
       "      <th></th>\n",
       "      <th></th>\n",
       "      <th></th>\n",
       "      <th></th>\n",
       "      <th></th>\n",
       "      <th></th>\n",
       "      <th></th>\n",
       "      <th></th>\n",
       "      <th></th>\n",
       "      <th></th>\n",
       "      <th></th>\n",
       "    </tr>\n",
       "  </thead>\n",
       "  <tbody>\n",
       "    <tr>\n",
       "      <th>R2</th>\n",
       "      <td>64966</td>\n",
       "      <td>64966</td>\n",
       "      <td>64966</td>\n",
       "      <td>64966</td>\n",
       "      <td>64966</td>\n",
       "      <td>64966</td>\n",
       "      <td>64966</td>\n",
       "      <td>64966</td>\n",
       "      <td>64966</td>\n",
       "      <td>64966</td>\n",
       "      <td>64966</td>\n",
       "    </tr>\n",
       "  </tbody>\n",
       "</table>\n",
       "</div>"
      ],
      "text/plain": [
       "        centeriod   seqs   size  position  mapped  length  sequence   prom  \\\n",
       "source                                                                       \n",
       "R2          64966  64966  64966     64966   64966   64966     64966  64966   \n",
       "\n",
       "          utr   plen   ulen  \n",
       "source                       \n",
       "R2      64966  64966  64966  "
      ]
     },
     "execution_count": 49,
     "metadata": {},
     "output_type": "execute_result"
    }
   ],
   "source": [
    "frs.groupby('source').count()"
   ]
  },
  {
   "cell_type": "code",
   "execution_count": 50,
   "id": "1375426b",
   "metadata": {},
   "outputs": [
    {
     "data": {
      "text/plain": [
       "(array([7.6480e+03, 9.0320e+03, 1.0386e+04, 1.1170e+04, 1.1561e+04,\n",
       "        1.1601e+04, 3.5140e+03, 4.5000e+01, 7.0000e+00, 2.0000e+00]),\n",
       " array([ 40. ,  59.2,  78.4,  97.6, 116.8, 136. , 155.2, 174.4, 193.6,\n",
       "        212.8, 232. ]),\n",
       " <BarContainer object of 10 artists>)"
      ]
     },
     "execution_count": 50,
     "metadata": {},
     "output_type": "execute_result"
    },
    {
     "data": {
      "image/png": "[encoded data removed]",
      "text/plain": [
       "<Figure size 640x480 with 1 Axes>"
      ]
     },
     "metadata": {},
     "output_type": "display_data"
    }
   ],
   "source": [
    "#plt.plot(sorted(frs.query(\"source=='R1'\").plen))\n",
    "plt.hist(frs.query(\"source=='R2'\").plen)"
   ]
  },
  {
   "cell_type": "code",
   "execution_count": 51,
   "id": "e13305e7",
   "metadata": {},
   "outputs": [
    {
     "data": {
      "text/plain": [
       "count    71893.00000\n",
       "mean        97.45003\n",
       "std         40.20524\n",
       "min          0.00000\n",
       "25%         67.00000\n",
       "50%        101.00000\n",
       "75%        131.00000\n",
       "max        232.00000\n",
       "Name: plen, dtype: float64"
      ]
     },
     "execution_count": 51,
     "metadata": {},
     "output_type": "execute_result"
    }
   ],
   "source": [
    "rs.query(\"source=='R2'\").plen.describe()"
   ]
  },
  {
   "cell_type": "code",
   "execution_count": 52,
   "id": "6f9de858",
   "metadata": {},
   "outputs": [],
   "source": [
    "frs = rs.query(\"plen >= 95\")"
   ]
  },
  {
   "cell_type": "code",
   "execution_count": 53,
   "id": "0c1193ef",
   "metadata": {},
   "outputs": [
    {
     "data": {
      "text/html": [
       "<div>\n",
       "<style scoped>\n",
       "    .dataframe tbody tr th:only-of-type {\n",
       "        vertical-align: middle;\n",
       "    }\n",
       "\n",
       "    .dataframe tbody tr th {\n",
       "        vertical-align: top;\n",
       "    }\n",
       "\n",
       "    .dataframe thead th {\n",
       "        text-align: right;\n",
       "    }\n",
       "</style>\n",
       "<table border=\"1\" class=\"dataframe\">\n",
       "  <thead>\n",
       "    <tr style=\"text-align: right;\">\n",
       "      <th></th>\n",
       "      <th>centeriod</th>\n",
       "      <th>seqs</th>\n",
       "      <th>size</th>\n",
       "      <th>position</th>\n",
       "      <th>mapped</th>\n",
       "      <th>length</th>\n",
       "      <th>sequence</th>\n",
       "      <th>prom</th>\n",
       "      <th>utr</th>\n",
       "      <th>plen</th>\n",
       "      <th>ulen</th>\n",
       "    </tr>\n",
       "    <tr>\n",
       "      <th>source</th>\n",
       "      <th></th>\n",
       "      <th></th>\n",
       "      <th></th>\n",
       "      <th></th>\n",
       "      <th></th>\n",
       "      <th></th>\n",
       "      <th></th>\n",
       "      <th></th>\n",
       "      <th></th>\n",
       "      <th></th>\n",
       "      <th></th>\n",
       "    </tr>\n",
       "  </thead>\n",
       "  <tbody>\n",
       "    <tr>\n",
       "      <th>R2</th>\n",
       "      <td>39550</td>\n",
       "      <td>39550</td>\n",
       "      <td>39550</td>\n",
       "      <td>39550</td>\n",
       "      <td>39550</td>\n",
       "      <td>39550</td>\n",
       "      <td>39550</td>\n",
       "      <td>39550</td>\n",
       "      <td>39550</td>\n",
       "      <td>39550</td>\n",
       "      <td>39550</td>\n",
       "    </tr>\n",
       "  </tbody>\n",
       "</table>\n",
       "</div>"
      ],
      "text/plain": [
       "        centeriod   seqs   size  position  mapped  length  sequence   prom  \\\n",
       "source                                                                       \n",
       "R2          39550  39550  39550     39550   39550   39550     39550  39550   \n",
       "\n",
       "          utr   plen   ulen  \n",
       "source                       \n",
       "R2      39550  39550  39550  "
      ]
     },
     "execution_count": 53,
     "metadata": {},
     "output_type": "execute_result"
    }
   ],
   "source": [
    "frs.groupby('source').count()"
   ]
  },
  {
   "cell_type": "code",
   "execution_count": 54,
   "id": "e43c0dd3",
   "metadata": {},
   "outputs": [
    {
     "data": {
      "text/html": [
       "<div>\n",
       "<style scoped>\n",
       "    .dataframe tbody tr th:only-of-type {\n",
       "        vertical-align: middle;\n",
       "    }\n",
       "\n",
       "    .dataframe tbody tr th {\n",
       "        vertical-align: top;\n",
       "    }\n",
       "\n",
       "    .dataframe thead th {\n",
       "        text-align: right;\n",
       "    }\n",
       "</style>\n",
       "<table border=\"1\" class=\"dataframe\">\n",
       "  <thead>\n",
       "    <tr style=\"text-align: right;\">\n",
       "      <th></th>\n",
       "      <th>count</th>\n",
       "      <th>mean</th>\n",
       "      <th>std</th>\n",
       "      <th>min</th>\n",
       "      <th>50%</th>\n",
       "      <th>60%</th>\n",
       "      <th>85%</th>\n",
       "      <th>90%</th>\n",
       "      <th>99%</th>\n",
       "      <th>max</th>\n",
       "    </tr>\n",
       "    <tr>\n",
       "      <th>source</th>\n",
       "      <th></th>\n",
       "      <th></th>\n",
       "      <th></th>\n",
       "      <th></th>\n",
       "      <th></th>\n",
       "      <th></th>\n",
       "      <th></th>\n",
       "      <th></th>\n",
       "      <th></th>\n",
       "      <th></th>\n",
       "    </tr>\n",
       "  </thead>\n",
       "  <tbody>\n",
       "    <tr>\n",
       "      <th>R2</th>\n",
       "      <td>71893.0</td>\n",
       "      <td>33.22087</td>\n",
       "      <td>168.788731</td>\n",
       "      <td>3.0</td>\n",
       "      <td>12.0</td>\n",
       "      <td>17.0</td>\n",
       "      <td>45.0</td>\n",
       "      <td>58.0</td>\n",
       "      <td>298.0</td>\n",
       "      <td>11469.0</td>\n",
       "    </tr>\n",
       "  </tbody>\n",
       "</table>\n",
       "</div>"
      ],
      "text/plain": [
       "          count      mean         std  min   50%   60%   85%   90%    99%  \\\n",
       "source                                                                      \n",
       "R2      71893.0  33.22087  168.788731  3.0  12.0  17.0  45.0  58.0  298.0   \n",
       "\n",
       "            max  \n",
       "source           \n",
       "R2      11469.0  "
      ]
     },
     "execution_count": 54,
     "metadata": {},
     "output_type": "execute_result"
    }
   ],
   "source": [
    "rs.groupby('source')['mapped'].describe(percentiles=[0.5,0.6,0.85,0.9,0.99])"
   ]
  },
  {
   "cell_type": "code",
   "execution_count": 56,
   "id": "4df48049",
   "metadata": {},
   "outputs": [],
   "source": [
    "hrs2 = rs.query(\"source=='R2' and mapped >= 45\")"
   ]
  },
  {
   "cell_type": "code",
   "execution_count": 57,
   "id": "1ac2661a-4576-4dda-b3a9-474353f73b39",
   "metadata": {},
   "outputs": [
    {
     "data": {
      "text/html": [
       "<div>\n",
       "<style scoped>\n",
       "    .dataframe tbody tr th:only-of-type {\n",
       "        vertical-align: middle;\n",
       "    }\n",
       "\n",
       "    .dataframe tbody tr th {\n",
       "        vertical-align: top;\n",
       "    }\n",
       "\n",
       "    .dataframe thead th {\n",
       "        text-align: right;\n",
       "    }\n",
       "</style>\n",
       "<table border=\"1\" class=\"dataframe\">\n",
       "  <thead>\n",
       "    <tr style=\"text-align: right;\">\n",
       "      <th></th>\n",
       "      <th>centeriod</th>\n",
       "      <th>seqs</th>\n",
       "      <th>size</th>\n",
       "      <th>position</th>\n",
       "      <th>mapped</th>\n",
       "      <th>length</th>\n",
       "      <th>sequence</th>\n",
       "      <th>source</th>\n",
       "      <th>prom</th>\n",
       "      <th>utr</th>\n",
       "      <th>plen</th>\n",
       "      <th>ulen</th>\n",
       "    </tr>\n",
       "  </thead>\n",
       "  <tbody>\n",
       "    <tr>\n",
       "      <th>7</th>\n",
       "      <td>9147842d-8c6c-4bdd-98d3-96c92a699c67</td>\n",
       "      <td>1</td>\n",
       "      <td>1</td>\n",
       "      <td>93</td>\n",
       "      <td>61</td>\n",
       "      <td>149</td>\n",
       "      <td>GTCGGATGCCAAAATTACCGTATGTACAGGGCAAGCTCTCTGTCTG...</td>\n",
       "      <td>R2</td>\n",
       "      <td>AAAATTACCGTATGTACAGGGCAAGCTCTCTGTCTGAATGACCATG...</td>\n",
       "      <td>ACCGTAGCGTGGATTGATCTTTGCATTTAGGCGGCGCCAGTTCGGG</td>\n",
       "      <td>82</td>\n",
       "      <td>46</td>\n",
       "    </tr>\n",
       "    <tr>\n",
       "      <th>16</th>\n",
       "      <td>M00493:565:000000000-JRNM9:1:2116:15499:8000</td>\n",
       "      <td>5</td>\n",
       "      <td>17</td>\n",
       "      <td>127</td>\n",
       "      <td>104</td>\n",
       "      <td>220</td>\n",
       "      <td>GTCGGATGCCCTAACACTTGATTAAGGAATTTATGTTCACTTTTGC...</td>\n",
       "      <td>R2</td>\n",
       "      <td>CTAACACTTGATTAAGGAATTTATGTTCACTTTTGCGTCTAAGCGA...</td>\n",
       "      <td>GGAAGCTTAGAGAATAGTCGATCTGGTAACATCCTCGCATGATGTC...</td>\n",
       "      <td>116</td>\n",
       "      <td>83</td>\n",
       "    </tr>\n",
       "    <tr>\n",
       "      <th>17</th>\n",
       "      <td>M00493:565:000000000-JRNM9:1:2116:15499:8000</td>\n",
       "      <td>5</td>\n",
       "      <td>17</td>\n",
       "      <td>128</td>\n",
       "      <td>161</td>\n",
       "      <td>220</td>\n",
       "      <td>GTCGGATGCCCTAACACTTGATTAAGGAATTTATGTTCACTTTTGC...</td>\n",
       "      <td>R2</td>\n",
       "      <td>CTAACACTTGATTAAGGAATTTATGTTCACTTTTGCGTCTAAGCGA...</td>\n",
       "      <td>GAAGCTTAGAGAATAGTCGATCTGGTAACATCCTCGCATGATGTCT...</td>\n",
       "      <td>117</td>\n",
       "      <td>82</td>\n",
       "    </tr>\n",
       "    <tr>\n",
       "      <th>18</th>\n",
       "      <td>M00493:565:000000000-JRNM9:1:2116:15499:8000</td>\n",
       "      <td>5</td>\n",
       "      <td>17</td>\n",
       "      <td>129</td>\n",
       "      <td>106</td>\n",
       "      <td>220</td>\n",
       "      <td>GTCGGATGCCCTAACACTTGATTAAGGAATTTATGTTCACTTTTGC...</td>\n",
       "      <td>R2</td>\n",
       "      <td>CTAACACTTGATTAAGGAATTTATGTTCACTTTTGCGTCTAAGCGA...</td>\n",
       "      <td>AAGCTTAGAGAATAGTCGATCTGGTAACATCCTCGCATGATGTCTA...</td>\n",
       "      <td>118</td>\n",
       "      <td>81</td>\n",
       "    </tr>\n",
       "    <tr>\n",
       "      <th>21</th>\n",
       "      <td>M00493:565:000000000-JRNM9:1:2115:5731:15192</td>\n",
       "      <td>2</td>\n",
       "      <td>4</td>\n",
       "      <td>93</td>\n",
       "      <td>66</td>\n",
       "      <td>138</td>\n",
       "      <td>GTCGGATGCCCTTCTGTTTGCTGTGTTTCGGATCTTTATATCACAG...</td>\n",
       "      <td>R2</td>\n",
       "      <td>CTTCTGTTTGCTGTGTTTCGGATCTTTATATCACAGTACTACAATG...</td>\n",
       "      <td>TATTTGGGTGAGGGTATAGATGTTGCGTAATAAGT</td>\n",
       "      <td>82</td>\n",
       "      <td>35</td>\n",
       "    </tr>\n",
       "    <tr>\n",
       "      <th>...</th>\n",
       "      <td>...</td>\n",
       "      <td>...</td>\n",
       "      <td>...</td>\n",
       "      <td>...</td>\n",
       "      <td>...</td>\n",
       "      <td>...</td>\n",
       "      <td>...</td>\n",
       "      <td>...</td>\n",
       "      <td>...</td>\n",
       "      <td>...</td>\n",
       "      <td>...</td>\n",
       "      <td>...</td>\n",
       "    </tr>\n",
       "    <tr>\n",
       "      <th>71935</th>\n",
       "      <td>M00493:565:000000000-JRNM9:1:2114:8430:5533</td>\n",
       "      <td>15</td>\n",
       "      <td>85</td>\n",
       "      <td>140</td>\n",
       "      <td>482</td>\n",
       "      <td>220</td>\n",
       "      <td>GTCGGATGCCTTCCTCACATGGTGCCTTGCTTTGCTAAAGGATCGG...</td>\n",
       "      <td>R2</td>\n",
       "      <td>TTCCTCACATGGTGCCTTGCTTTGCTAAAGGATCGGTCTTAATTTA...</td>\n",
       "      <td>GGGTAATTATAATGGTTTTTGTTGTGTATCTGGTACATTTTGCGGC...</td>\n",
       "      <td>129</td>\n",
       "      <td>70</td>\n",
       "    </tr>\n",
       "    <tr>\n",
       "      <th>71941</th>\n",
       "      <td>M00493:565:000000000-JRNM9:1:1113:7135:8221</td>\n",
       "      <td>1</td>\n",
       "      <td>11</td>\n",
       "      <td>142</td>\n",
       "      <td>61</td>\n",
       "      <td>220</td>\n",
       "      <td>GTCGGATGCCAACATAATAATTCTGAACCCCTAGTTAATAACTTTT...</td>\n",
       "      <td>R2</td>\n",
       "      <td>AACATAATAATTCTGAACCCCTAGTTAATAACTTTTTTAATTAAAT...</td>\n",
       "      <td>ATAAGTGTTGACATAATTGGTAGTATATCACAGCGTACTTGTAAAA...</td>\n",
       "      <td>131</td>\n",
       "      <td>68</td>\n",
       "    </tr>\n",
       "    <tr>\n",
       "      <th>71943</th>\n",
       "      <td>M00493:565:000000000-JRNM9:1:2104:15751:3856</td>\n",
       "      <td>7</td>\n",
       "      <td>16</td>\n",
       "      <td>85</td>\n",
       "      <td>85</td>\n",
       "      <td>220</td>\n",
       "      <td>GTCGGATGCCAATACCTATATGAGATTAAGATTGCTGGGTATACTT...</td>\n",
       "      <td>R2</td>\n",
       "      <td>AATACCTATATGAGATTAAGATTGCTGGGTATACTTCACAATCTGC...</td>\n",
       "      <td>AAGTATCGGAGGATCTGAAATACTCGCGTAGGGTTGATTCCGTATA...</td>\n",
       "      <td>74</td>\n",
       "      <td>125</td>\n",
       "    </tr>\n",
       "    <tr>\n",
       "      <th>71946</th>\n",
       "      <td>M00493:565:000000000-JRNM9:1:2117:22884:2876</td>\n",
       "      <td>4</td>\n",
       "      <td>15</td>\n",
       "      <td>158</td>\n",
       "      <td>80</td>\n",
       "      <td>219</td>\n",
       "      <td>GTCGGATGCCTCAGGTTTATGCGTTGTGCTGGGTTCTATAGGGTAC...</td>\n",
       "      <td>R2</td>\n",
       "      <td>TCAGGTTTATGCGTTGTGCTGGGTTCTATAGGGTACTTACTCTTTT...</td>\n",
       "      <td>GGGGCGTAAAATATATAAGGATATGAACAGTTTACTGCGTGAGCGA...</td>\n",
       "      <td>147</td>\n",
       "      <td>51</td>\n",
       "    </tr>\n",
       "    <tr>\n",
       "      <th>71951</th>\n",
       "      <td>M00493:565:000000000-JRNM9:1:1107:18789:2008</td>\n",
       "      <td>1</td>\n",
       "      <td>13</td>\n",
       "      <td>160</td>\n",
       "      <td>80</td>\n",
       "      <td>220</td>\n",
       "      <td>GTCGGATGCCCATGGTCTGATCGTAAGTTTGGAGTTTAATCCTGTA...</td>\n",
       "      <td>R2</td>\n",
       "      <td>CATGGTCTGATCGTAAGTTTGGAGTTTAATCCTGTAAAGATCGGTT...</td>\n",
       "      <td>TTACAGTCAAATTTAAATGATGGTTATCTTACGCAGGGTCCGTAAC...</td>\n",
       "      <td>149</td>\n",
       "      <td>50</td>\n",
       "    </tr>\n",
       "  </tbody>\n",
       "</table>\n",
       "<p>10792 rows × 12 columns</p>\n",
       "</div>"
      ],
      "text/plain": [
       "                                          centeriod  seqs  size  position  \\\n",
       "7              9147842d-8c6c-4bdd-98d3-96c92a699c67     1     1        93   \n",
       "16     M00493:565:000000000-JRNM9:1:2116:15499:8000     5    17       127   \n",
       "17     M00493:565:000000000-JRNM9:1:2116:15499:8000     5    17       128   \n",
       "18     M00493:565:000000000-JRNM9:1:2116:15499:8000     5    17       129   \n",
       "21     M00493:565:000000000-JRNM9:1:2115:5731:15192     2     4        93   \n",
       "...                                             ...   ...   ...       ...   \n",
       "71935   M00493:565:000000000-JRNM9:1:2114:8430:5533    15    85       140   \n",
       "71941   M00493:565:000000000-JRNM9:1:1113:7135:8221     1    11       142   \n",
       "71943  M00493:565:000000000-JRNM9:1:2104:15751:3856     7    16        85   \n",
       "71946  M00493:565:000000000-JRNM9:1:2117:22884:2876     4    15       158   \n",
       "71951  M00493:565:000000000-JRNM9:1:1107:18789:2008     1    13       160   \n",
       "\n",
       "       mapped  length                                           sequence  \\\n",
       "7          61     149  GTCGGATGCCAAAATTACCGTATGTACAGGGCAAGCTCTCTGTCTG...   \n",
       "16        104     220  GTCGGATGCCCTAACACTTGATTAAGGAATTTATGTTCACTTTTGC...   \n",
       "17        161     220  GTCGGATGCCCTAACACTTGATTAAGGAATTTATGTTCACTTTTGC...   \n",
       "18        106     220  GTCGGATGCCCTAACACTTGATTAAGGAATTTATGTTCACTTTTGC...   \n",
       "21         66     138  GTCGGATGCCCTTCTGTTTGCTGTGTTTCGGATCTTTATATCACAG...   \n",
       "...       ...     ...                                                ...   \n",
       "71935     482     220  GTCGGATGCCTTCCTCACATGGTGCCTTGCTTTGCTAAAGGATCGG...   \n",
       "71941      61     220  GTCGGATGCCAACATAATAATTCTGAACCCCTAGTTAATAACTTTT...   \n",
       "71943      85     220  GTCGGATGCCAATACCTATATGAGATTAAGATTGCTGGGTATACTT...   \n",
       "71946      80     219  GTCGGATGCCTCAGGTTTATGCGTTGTGCTGGGTTCTATAGGGTAC...   \n",
       "71951      80     220  GTCGGATGCCCATGGTCTGATCGTAAGTTTGGAGTTTAATCCTGTA...   \n",
       "\n",
       "      source                                               prom  \\\n",
       "7         R2  AAAATTACCGTATGTACAGGGCAAGCTCTCTGTCTGAATGACCATG...   \n",
       "16        R2  CTAACACTTGATTAAGGAATTTATGTTCACTTTTGCGTCTAAGCGA...   \n",
       "17        R2  CTAACACTTGATTAAGGAATTTATGTTCACTTTTGCGTCTAAGCGA...   \n",
       "18        R2  CTAACACTTGATTAAGGAATTTATGTTCACTTTTGCGTCTAAGCGA...   \n",
       "21        R2  CTTCTGTTTGCTGTGTTTCGGATCTTTATATCACAGTACTACAATG...   \n",
       "...      ...                                                ...   \n",
       "71935     R2  TTCCTCACATGGTGCCTTGCTTTGCTAAAGGATCGGTCTTAATTTA...   \n",
       "71941     R2  AACATAATAATTCTGAACCCCTAGTTAATAACTTTTTTAATTAAAT...   \n",
       "71943     R2  AATACCTATATGAGATTAAGATTGCTGGGTATACTTCACAATCTGC...   \n",
       "71946     R2  TCAGGTTTATGCGTTGTGCTGGGTTCTATAGGGTACTTACTCTTTT...   \n",
       "71951     R2  CATGGTCTGATCGTAAGTTTGGAGTTTAATCCTGTAAAGATCGGTT...   \n",
       "\n",
       "                                                     utr  plen  ulen  \n",
       "7         ACCGTAGCGTGGATTGATCTTTGCATTTAGGCGGCGCCAGTTCGGG    82    46  \n",
       "16     GGAAGCTTAGAGAATAGTCGATCTGGTAACATCCTCGCATGATGTC...   116    83  \n",
       "17     GAAGCTTAGAGAATAGTCGATCTGGTAACATCCTCGCATGATGTCT...   117    82  \n",
       "18     AAGCTTAGAGAATAGTCGATCTGGTAACATCCTCGCATGATGTCTA...   118    81  \n",
       "21                   TATTTGGGTGAGGGTATAGATGTTGCGTAATAAGT    82    35  \n",
       "...                                                  ...   ...   ...  \n",
       "71935  GGGTAATTATAATGGTTTTTGTTGTGTATCTGGTACATTTTGCGGC...   129    70  \n",
       "71941  ATAAGTGTTGACATAATTGGTAGTATATCACAGCGTACTTGTAAAA...   131    68  \n",
       "71943  AAGTATCGGAGGATCTGAAATACTCGCGTAGGGTTGATTCCGTATA...    74   125  \n",
       "71946  GGGGCGTAAAATATATAAGGATATGAACAGTTTACTGCGTGAGCGA...   147    51  \n",
       "71951  TTACAGTCAAATTTAAATGATGGTTATCTTACGCAGGGTCCGTAAC...   149    50  \n",
       "\n",
       "[10792 rows x 12 columns]"
      ]
     },
     "execution_count": 57,
     "metadata": {},
     "output_type": "execute_result"
    }
   ],
   "source": [
    "hrs2"
   ]
  },
  {
   "cell_type": "code",
   "execution_count": 58,
   "id": "66fa2760",
   "metadata": {},
   "outputs": [],
   "source": [
    "hrs = pd.concat([hrs2], ignore_index=False)"
   ]
  },
  {
   "cell_type": "code",
   "execution_count": 59,
   "id": "75f9b66c",
   "metadata": {},
   "outputs": [
    {
     "data": {
      "text/html": [
       "<div>\n",
       "<style scoped>\n",
       "    .dataframe tbody tr th:only-of-type {\n",
       "        vertical-align: middle;\n",
       "    }\n",
       "\n",
       "    .dataframe tbody tr th {\n",
       "        vertical-align: top;\n",
       "    }\n",
       "\n",
       "    .dataframe thead th {\n",
       "        text-align: right;\n",
       "    }\n",
       "</style>\n",
       "<table border=\"1\" class=\"dataframe\">\n",
       "  <thead>\n",
       "    <tr style=\"text-align: right;\">\n",
       "      <th></th>\n",
       "      <th>count</th>\n",
       "      <th>mean</th>\n",
       "      <th>std</th>\n",
       "      <th>min</th>\n",
       "      <th>25%</th>\n",
       "      <th>50%</th>\n",
       "      <th>75%</th>\n",
       "      <th>max</th>\n",
       "    </tr>\n",
       "    <tr>\n",
       "      <th>source</th>\n",
       "      <th></th>\n",
       "      <th></th>\n",
       "      <th></th>\n",
       "      <th></th>\n",
       "      <th></th>\n",
       "      <th></th>\n",
       "      <th></th>\n",
       "      <th></th>\n",
       "    </tr>\n",
       "  </thead>\n",
       "  <tbody>\n",
       "    <tr>\n",
       "      <th>R2</th>\n",
       "      <td>10792.0</td>\n",
       "      <td>93.259451</td>\n",
       "      <td>41.233193</td>\n",
       "      <td>0.0</td>\n",
       "      <td>61.0</td>\n",
       "      <td>97.0</td>\n",
       "      <td>128.0</td>\n",
       "      <td>217.0</td>\n",
       "    </tr>\n",
       "  </tbody>\n",
       "</table>\n",
       "</div>"
      ],
      "text/plain": [
       "          count       mean        std  min   25%   50%    75%    max\n",
       "source                                                              \n",
       "R2      10792.0  93.259451  41.233193  0.0  61.0  97.0  128.0  217.0"
      ]
     },
     "execution_count": 59,
     "metadata": {},
     "output_type": "execute_result"
    }
   ],
   "source": [
    "hrs.groupby('source')['plen'].describe()"
   ]
  },
  {
   "cell_type": "code",
   "execution_count": 60,
   "id": "09824491",
   "metadata": {},
   "outputs": [],
   "source": [
    "def save_fasta(df, path, prefix=\"\", len=0, perc=0):\n",
    "    assert len>0 or perc>0, \"At least one of it must be greater than 0\"\n",
    "    sources = df.source.unique()\n",
    "    lname = len\n",
    "    fnames = []\n",
    "    for s in sources:\n",
    "        if perc > 0:\n",
    "            tdf = df.query(f\"source=='{s}'\")\n",
    "            len = int(tdf.plen.describe(percentiles=[perc])['mean'])\n",
    "            lname = f\"{int(perc*100)}p\"\n",
    "        out_name = f\"{prefix}{s.lower()}{lname}_prom.fa\"\n",
    "        fnames.append(out_name)\n",
    "        with open(f\"{path}/{out_name}\", \"w\") as f:\n",
    "            for k,v in df.query(f\"source=='{s}' and plen >= {len}\").prom.to_dict().items():\n",
    "                f.writelines(f\">{k}\\n{v[-len:]}\\n\")\n",
    "    return fnames"
   ]
  },
  {
   "cell_type": "code",
   "execution_count": 61,
   "id": "2e4f93c8",
   "metadata": {},
   "outputs": [],
   "source": [
    "all_files = []\n",
    "all_files.append(save_fasta(hrs, path, \"high_\", len=40))\n",
    "all_files.append(save_fasta(hrs, path, \"high_\", perc=0.5))"
   ]
  },
  {
   "cell_type": "code",
   "execution_count": 62,
   "id": "88fac115",
   "metadata": {},
   "outputs": [],
   "source": [
    "all_files.append(save_fasta(rs, path, len=40))\n",
    "all_files.append(save_fasta(rs, path, perc=0.5))"
   ]
  },
  {
   "cell_type": "code",
   "execution_count": 86,
   "id": "5f1f73a5",
   "metadata": {},
   "outputs": [],
   "source": [
    "all_files = ['r240_prom.fa']"
   ]
  },
  {
   "cell_type": "code",
   "execution_count": null,
   "id": "5adc4c74-6d58-4a2d-a1fa-dff30943ce78",
   "metadata": {},
   "outputs": [],
   "source": [
    "The run_bioprospector function constructs and executes a command to run the BioProspector tool for motif identification on an input file, using specified parameters for motif width and background file"
   ]
  },
  {
   "cell_type": "code",
   "execution_count": null,
   "id": "ece806c3-d80f-4655-bc3a-2aac8cb6521d",
   "metadata": {},
   "outputs": [],
   "source": [
    "def run_bioprospector(fname, path, bp = \"/cluster/work/essaak/BioProspector.2004/BioProspector.linux\", bg_fname =\"20230418_clusters_90_2.fa\"):\n",
    "    f = fname.split('.')[0]\n",
    "    cmd = f\"cd {path} && {bp} -i {fname} -W 6 -b {bg_fname} -w 6 -a 1 -d 1 -G 15 -g 6 -n 200 -o {f}.bp\"\n",
    "    print(f\"Processing {fname} and will store result in {f}.bp with {cmd}\")\n",
    "    subprocess.run(cmd, shell=True)\n",
    "    print(f\"Stored {f}.bp file in {path} directory\")"
   ]
  },
  {
   "cell_type": "code",
   "execution_count": null,
   "id": "8fde5619-680d-4354-b509-aa9111b4feb2",
   "metadata": {},
   "outputs": [],
   "source": [
    "import subprocess  # Import the subprocess module"
   ]
  },
  {
   "cell_type": "code",
   "execution_count": null,
   "id": "70b6249b-ae92-4e2d-ae2d-823fbc866cdb",
   "metadata": {},
   "outputs": [],
   "source": [
    "for f in all_files:\n",
    "    run_bioprospector(f, path)\n",
    "    #if f.find(\"p_\") > 0:"
   ]
  },
  {
   "cell_type": "markdown",
   "id": "32482273-9966-4540-a363-e4f90181644e",
   "metadata": {},
   "source": [
    "The read_motifs_bp function reads and parses motifs from a BioProspector output file"
   ]
  },
  {
   "cell_type": "code",
   "execution_count": null,
   "id": "f9e4b5d6-13c0-46ae-901f-99be6cbf96f4",
   "metadata": {},
   "outputs": [],
   "source": [
    "def read_motifs_bp(fname):\n",
    "    motifs = []\n",
    "    motif = []\n",
    "    mfound = False\n",
    "    with open(fname, \"r\") as f:\n",
    "        lines = f.readlines()\n",
    "        for l in lines:\n",
    "            if len(l) == 1:\n",
    "                continue\n",
    "            if l.startswith(\"Motif #\") and not mfound:\n",
    "                mfound = True\n",
    "            elif l.startswith(\"Motif #\") and mfound:\n",
    "                motifs.append(motif)\n",
    "                motif = []\n",
    "            if mfound:\n",
    "                motif.append(l)\n",
    "    motifs.append(motif)\n",
    "    return motifs"
   ]
  },
  {
   "cell_type": "markdown",
   "id": "fde1452b-788e-4313-87f6-1758bf92efc3",
   "metadata": {},
   "source": [
    "The provided script contains four functions designed to parse and process motif data from BioProspector output files and construct dataframes for further analysis.\n",
    "\n",
    "parse_blocks(blks): This function processes blocks of motif data from a list of lines (blks). It separates each block, extracts consensus and degenerate sequences, and returns these along with the parsed block data.\n",
    "\n",
    "blk_df(pbs, con, deg, source): This function creates a dataframe from parsed blocks (pbs), adding consensus and degenerate sequences, motif numbers, and the source. It returns a concatenated dataframe of all blocks.\n",
    "\n",
    "bp_df(patterns, positions, con, deg, source, idxs): This function constructs a dataframe from motif patterns and positions, incorporating consensus and degenerate sequences, indices, and source information. It returns the constructed dataframe with position columns converted to integers.\n",
    "\n",
    "parse_motifs(lines, source, motif_n): This function parses motif data from input lines, identifying blocks, positions, and patterns. It uses parse_blocks to process block data, and then constructs two dataframes using blk_df and bp_df. It adds motif numbers to both dataframes and returns them.\n",
    "\n",
    "In summary, these functions collectively parse motif data from BioProspector output, organize the data into structured dataframes, and include consensus and degenerate sequences, enabling comprehensive analysis and visualization of motif patterns."
   ]
  },
  {
   "cell_type": "code",
   "execution_count": null,
   "id": "1e934d74-8bad-4643-a231-51e49a3f864a",
   "metadata": {},
   "outputs": [],
   "source": [
    "def parse_blocks(blks):\n",
    "    res,r = [], []\n",
    "    con, deg, co, de = [], [],[], []\n",
    "    for i,l in enumerate(blks):\n",
    "        if l.startswith(\"Blk\"):\n",
    "            if len(r) > 0:\n",
    "                res.append(r)\n",
    "                con.append(\"\".join(co)[3:])\n",
    "                deg.append(\"\".join(de)[3:])\n",
    "            r,co,de = [],[],[]\n",
    "        d = l.strip().split()\n",
    "        r.append(d[1:5])\n",
    "        co.append(d[5])\n",
    "        de.append(d[7])\n",
    "    res.append(r)\n",
    "    con.append(\"\".join(co)[3:])\n",
    "    deg.append(\"\".join(de)[3:])\n",
    "    return res, con, deg\n",
    "\n",
    "def blk_df(pbs, con, deg, source):\n",
    "    dfs = []\n",
    "    for i in range(len(con)):\n",
    "        df = pd.DataFrame(pbs[i][1:], columns=pbs[i][0])\n",
    "        df['consensus'] = con[i]\n",
    "        df['degenerate'] = deg[i]\n",
    "        df['motif'] = i+1\n",
    "        df['source'] = source\n",
    "        dfs.append(df)\n",
    "    return pd.concat(dfs, ignore_index=True)\n",
    "\n",
    "def bp_df(patterns, positions, con, deg, source, idxs):\n",
    "    data = [[x[0],x[1], y[0], y[1], i] for x,y,i in zip(patterns,positions,idxs)]\n",
    "    df = pd.DataFrame(data, columns=[\"motif_1\", \"motif_2\", \"pos_1\", \"pos_2\", \"idx\"])\n",
    "    df['consensus_1'] = con[0]\n",
    "    df['consensus_2'] = con[1]\n",
    "    df['degenerate_1'] = deg[0]\n",
    "    df['degenerate_2'] = deg[1]\n",
    "    df['source'] = source\n",
    "    df['pos_1'] = df.pos_1.astype(int)\n",
    "    df['pos_2'] = df.pos_2.astype(int)\n",
    "    return df\n",
    "\n",
    "def parse_motifs(lines, source, motif_n):\n",
    "    positions = []\n",
    "    blks = []\n",
    "    idxs = []\n",
    "    patterns = []\n",
    "    blk_mode = False\n",
    "    for i,l in enumerate(lines):\n",
    "        if len(l) <= 1: continue\n",
    "        if l.startswith('Blk'):\n",
    "            blk_mode = True\n",
    "        if l.startswith('>'):\n",
    "            blk_mode = False\n",
    "            pcs = l.split('\\t')\n",
    "            ps = [int(x[2:].strip()) for x in pcs[-2:]]\n",
    "            idxs.append(int(pcs[0][1:]))\n",
    "            positions.append(ps)\n",
    "            patterns.append(lines[i+1].split())\n",
    "        if blk_mode:\n",
    "            blks.append(l)\n",
    "    pbs, con, deg = parse_blocks(blks)\n",
    "    bdf = blk_df(pbs, con, deg, source)\n",
    "    bpdf = bp_df(patterns, positions, con, deg, source, idxs)\n",
    "    bdf['motif_nr'] = motif_n\n",
    "    bpdf['motif_nr'] = motif_n\n",
    "    return bpdf, bdf"
   ]
  },
  {
   "cell_type": "code",
   "execution_count": null,
   "id": "a311f811-2859-4e6c-9194-080e2bf4073c",
   "metadata": {},
   "outputs": [],
   "source": [
    "a = \">8\\tlen 50\\tsite #1\\tf 11\\tf 36\""
   ]
  },
  {
   "cell_type": "code",
   "execution_count": null,
   "id": "91c3be97-e509-48ed-bbf4-9788b73c4387",
   "metadata": {},
   "outputs": [],
   "source": [
    "a.split(\"\\t\")[-2:]"
   ]
  },
  {
   "cell_type": "code",
   "execution_count": null,
   "id": "d60839d7-5660-4a4c-990e-3aac0b160758",
   "metadata": {},
   "outputs": [],
   "source": [
    "all_files = ['r240_prom.fa']"
   ]
  },
  {
   "cell_type": "code",
   "execution_count": null,
   "id": "33762eda-497a-4ad0-81e2-7da12d6be569",
   "metadata": {},
   "outputs": [],
   "source": [
    "sources = {x.split('.')[0]: f\"{path}/{x.split('.')[0]}.bp\" for x in all_files}"
   ]
  },
  {
   "cell_type": "markdown",
   "id": "a3e81209-b1d7-4bb6-955f-4bda001722ac",
   "metadata": {},
   "source": [
    "The script efficiently aggregates motif data from multiple BioProspector output files into two consolidated dataframes, bpdf and bdf"
   ]
  },
  {
   "cell_type": "code",
   "execution_count": null,
   "id": "93f3d83e-60b9-4a18-a4cb-163b848dcead",
   "metadata": {},
   "outputs": [],
   "source": [
    "bdfs, bpdfs = [], []\n",
    "for s,f in sources.items():\n",
    "    rmotifs = read_motifs_bp(f)\n",
    "    for i,m in enumerate(rmotifs):\n",
    "        bpdf, bdf = parse_motifs(m, s, i+1)\n",
    "        bpdfs.append(bpdf)\n",
    "        bdfs.append(bdf)\n",
    "bpdf = pd.concat(bpdfs, ignore_index=True)\n",
    "bdf = pd.concat(bdfs, ignore_index=True)"
   ]
  },
  {
   "cell_type": "code",
   "execution_count": null,
   "id": "8a5ab9c5-b4c6-48f4-a7e5-98333a134eac",
   "metadata": {},
   "outputs": [],
   "source": [
    "bpdf"
   ]
  },
  {
   "cell_type": "code",
   "execution_count": null,
   "id": "c46fbe98-162d-4671-aaa2-81838fc5388b",
   "metadata": {},
   "outputs": [],
   "source": [
    "bdf.head(12)"
   ]
  },
  {
   "cell_type": "code",
   "execution_count": null,
   "id": "a298856c-931a-4692-a3a7-3e36d773ab54",
   "metadata": {},
   "outputs": [],
   "source": [
    "bdf.groupby(['source','motif'])['consensus'].unique().to_frame()"
   ]
  },
  {
   "cell_type": "code",
   "execution_count": null,
   "id": "1f01f78f-2216-470d-8170-fbea6c39e7c5",
   "metadata": {},
   "outputs": [],
   "source": [
    "bdf.groupby(['source','motif'])['degenerate'].unique().to_frame()"
   ]
  },
  {
   "cell_type": "code",
   "execution_count": null,
   "id": "f164d983-2b38-4a60-ad8c-e9d59a18fbd0",
   "metadata": {},
   "outputs": [],
   "source": [
    "# Assuming bpdf and bdf are pandas DataFrames that have been concatenated and are ready to be exported\n",
    "bpdf.to_csv('bpdf.csv', index=False)  # Export bpdf dataframe to bpdf.csv without the index\n",
    "bdf.to_csv('bdf.csv', index=False)    # Export bdf dataframe to bdf.csv without the index"
   ]
  },
  {
   "cell_type": "markdown",
   "id": "a48d14f7-0336-4dd8-bc3f-a361d4de41d6",
   "metadata": {},
   "source": [
    "Formation of Logo Motifs"
   ]
  },
  {
   "cell_type": "code",
   "execution_count": null,
   "id": "50681d0c-1687-484e-a085-92a98f0b1aa5",
   "metadata": {},
   "outputs": [],
   "source": [
    "pip install logomaker"
   ]
  },
  {
   "cell_type": "code",
   "execution_count": null,
   "id": "ca5d71c6-d304-4135-b291-9d3d03168257",
   "metadata": {},
   "outputs": [],
   "source": [
    "import logomaker\n",
    "import pandas as pd\n",
    "\n",
    "# Example frequency data in percentages\n",
    "data = {\n",
    "    'A': [30.37, 24.22, 04.87, 01.53, 32.59, 45.75, 32.25],\n",
    "    'C': [18.27, 01.27, 19.31, 0.00, 40.10, 08.34, 0.00],\n",
    "    'G': [01.80, 14.77, 07.44, 98.40, 0.00, 0.00, 0.00],\n",
    "    'T': [49.55, 59.74, 68.38, 0.07, 27.31, 45.91, 67.75]\n",
    "}\n",
    "\n",
    "freq_df = pd.DataFrame(data)\n",
    "\n",
    "# Adjust the figure size for a square aspect ratio\n",
    "figsize = (8, 8)  # Adjust both width and height to the same value for a square aspect ratio\n",
    "\n",
    "# Generate the web logo with the updated figsize\n",
    "logo = logomaker.Logo(freq_df, figsize=figsize)\n",
    "\n",
    "# Set properties for the logo\n",
    "logo.style_spines(visible=False)\n",
    "logo.style_spines(spines=['left', 'bottom'], visible=True)\n",
    "logo.style_xticks(rotation=90, fmt='%d', anchor=0)\n",
    "\n",
    "# Customize font sizes for ticks and labels\n",
    "logo.ax.set_xlabel('Position', fontsize=14)  # Customize X-axis label and font size\n",
    "logo.ax.set_ylabel('Percentage (%)', fontsize=14)  # Adjust Y-axis label to indicate percentage\n",
    "logo.ax.tick_params(axis='both', which='major', labelsize=12)  # Adjust tick label sizes\n",
    "\n",
    "# Specify the path and filename for the output file in PDF format\n",
    "output_file_path = '/cluster/home/essaak/Desktop/Mapping/Mango_RNA/pp_Sigma54/TTTGCTT_single_motif_r240p.pdf'  # Update to the desired path\n",
    "\n",
    "# Save the logo to a file with high resolution in PDF format\n",
    "dpi = 300  # Increase the resolution for better clarity, especially for printing\n",
    "logo.fig.savefig(output_file_path, dpi=dpi, format='pdf')"
   ]
  }
 ],
 "metadata": {
  "kernelspec": {
   "display_name": "Python 3 (ipykernel)",
   "language": "python",
   "name": "python3"
  },
  "language_info": {
   "codemirror_mode": {
    "name": "ipython",
    "version": 3
   },
   "file_extension": ".py",
   "mimetype": "text/x-python",
   "name": "python",
   "nbconvert_exporter": "python",
   "pygments_lexer": "ipython3",
   "version": "3.9.13"
  }
 },
 "nbformat": 4,
 "nbformat_minor": 5
}
